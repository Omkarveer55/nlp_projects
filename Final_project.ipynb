{
 "cells": [
  {
   "cell_type": "code",
   "execution_count": null,
   "metadata": {
    "id": "H5o5wAMzd48q"
   },
   "outputs": [],
   "source": [
    "# Problem Statement : \n",
    "\n",
    "Example \n",
    "# To detect probability of defaulter rate well in advance using ML based analysis \n",
    "# We were trying to find out capabilty of candidature that he will be a good customer or not in future \n",
    "\n",
    "Problem Statement :\n",
    "We are trying to find out if customer is happy or not with new product if not then what are reasons behind it \n",
    "\n",
    "#Data Extraction :\n",
    " 1.pdf ---> py2pdf \n",
    " 2. images ----> pytesseract,opencv \n",
    " 3. json -----> json --dump load \n",
    " 4. webscrapping \n",
    " 5.Api ---> download \n",
    "\n",
    " Questions :\n",
    " 1. Problems faced while extracting data \n",
    " 2. What is ustructured data ? How you unstructured format into structured format ?"
   ]
  },
  {
   "cell_type": "code",
   "execution_count": null,
   "metadata": {
    "id": "L3ia1HkLj5-1"
   },
   "outputs": [],
   "source": [
    "from google.colab import drive\n",
    "drive.mount('/content/drive')"
   ]
  },
  {
   "cell_type": "code",
   "execution_count": 1,
   "metadata": {
    "colab": {
     "base_uri": "https://localhost:8080/",
     "height": 112
    },
    "executionInfo": {
     "elapsed": 4689,
     "status": "ok",
     "timestamp": 1659184609909,
     "user": {
      "displayName": "Prajakta Joshi",
      "userId": "09236937732649609880"
     },
     "user_tz": -330
    },
    "id": "p-YY8HULjuvf",
    "outputId": "d3245ac5-31c1-400f-ad65-2c8550f66911"
   },
   "outputs": [
    {
     "data": {
      "text/html": [
       "\n",
       "  <div id=\"df-dcc6f650-edd5-4d26-b51b-6f465e8c0497\">\n",
       "    <div class=\"colab-df-container\">\n",
       "      <div>\n",
       "<style scoped>\n",
       "    .dataframe tbody tr th:only-of-type {\n",
       "        vertical-align: middle;\n",
       "    }\n",
       "\n",
       "    .dataframe tbody tr th {\n",
       "        vertical-align: top;\n",
       "    }\n",
       "\n",
       "    .dataframe thead th {\n",
       "        text-align: right;\n",
       "    }\n",
       "</style>\n",
       "<table border=\"1\" class=\"dataframe\">\n",
       "  <thead>\n",
       "    <tr style=\"text-align: right;\">\n",
       "      <th></th>\n",
       "      <th>review_id</th>\n",
       "      <th>product_id</th>\n",
       "      <th>reviewer_id</th>\n",
       "      <th>stars</th>\n",
       "      <th>review_body</th>\n",
       "      <th>review_title</th>\n",
       "      <th>language</th>\n",
       "      <th>product_category</th>\n",
       "    </tr>\n",
       "  </thead>\n",
       "  <tbody>\n",
       "    <tr>\n",
       "      <th>0</th>\n",
       "      <td>es_0491108</td>\n",
       "      <td>product_es_0296024</td>\n",
       "      <td>reviewer_es_0999081</td>\n",
       "      <td>1</td>\n",
       "      <td>Nada bueno se me fue ka pantalla en menos de 8...</td>\n",
       "      <td>television Nevir</td>\n",
       "      <td>es</td>\n",
       "      <td>electronics</td>\n",
       "    </tr>\n",
       "    <tr>\n",
       "      <th>1</th>\n",
       "      <td>es_0869872</td>\n",
       "      <td>product_es_0922286</td>\n",
       "      <td>reviewer_es_0216771</td>\n",
       "      <td>1</td>\n",
       "      <td>Horrible, nos tuvimos que comprar otro porque ...</td>\n",
       "      <td>Dinero tirado a la basura con esta compra</td>\n",
       "      <td>es</td>\n",
       "      <td>electronics</td>\n",
       "    </tr>\n",
       "  </tbody>\n",
       "</table>\n",
       "</div>\n",
       "      <button class=\"colab-df-convert\" onclick=\"convertToInteractive('df-dcc6f650-edd5-4d26-b51b-6f465e8c0497')\"\n",
       "              title=\"Convert this dataframe to an interactive table.\"\n",
       "              style=\"display:none;\">\n",
       "        \n",
       "  <svg xmlns=\"http://www.w3.org/2000/svg\" height=\"24px\"viewBox=\"0 0 24 24\"\n",
       "       width=\"24px\">\n",
       "    <path d=\"M0 0h24v24H0V0z\" fill=\"none\"/>\n",
       "    <path d=\"M18.56 5.44l.94 2.06.94-2.06 2.06-.94-2.06-.94-.94-2.06-.94 2.06-2.06.94zm-11 1L8.5 8.5l.94-2.06 2.06-.94-2.06-.94L8.5 2.5l-.94 2.06-2.06.94zm10 10l.94 2.06.94-2.06 2.06-.94-2.06-.94-.94-2.06-.94 2.06-2.06.94z\"/><path d=\"M17.41 7.96l-1.37-1.37c-.4-.4-.92-.59-1.43-.59-.52 0-1.04.2-1.43.59L10.3 9.45l-7.72 7.72c-.78.78-.78 2.05 0 2.83L4 21.41c.39.39.9.59 1.41.59.51 0 1.02-.2 1.41-.59l7.78-7.78 2.81-2.81c.8-.78.8-2.07 0-2.86zM5.41 20L4 18.59l7.72-7.72 1.47 1.35L5.41 20z\"/>\n",
       "  </svg>\n",
       "      </button>\n",
       "      \n",
       "  <style>\n",
       "    .colab-df-container {\n",
       "      display:flex;\n",
       "      flex-wrap:wrap;\n",
       "      gap: 12px;\n",
       "    }\n",
       "\n",
       "    .colab-df-convert {\n",
       "      background-color: #E8F0FE;\n",
       "      border: none;\n",
       "      border-radius: 50%;\n",
       "      cursor: pointer;\n",
       "      display: none;\n",
       "      fill: #1967D2;\n",
       "      height: 32px;\n",
       "      padding: 0 0 0 0;\n",
       "      width: 32px;\n",
       "    }\n",
       "\n",
       "    .colab-df-convert:hover {\n",
       "      background-color: #E2EBFA;\n",
       "      box-shadow: 0px 1px 2px rgba(60, 64, 67, 0.3), 0px 1px 3px 1px rgba(60, 64, 67, 0.15);\n",
       "      fill: #174EA6;\n",
       "    }\n",
       "\n",
       "    [theme=dark] .colab-df-convert {\n",
       "      background-color: #3B4455;\n",
       "      fill: #D2E3FC;\n",
       "    }\n",
       "\n",
       "    [theme=dark] .colab-df-convert:hover {\n",
       "      background-color: #434B5C;\n",
       "      box-shadow: 0px 1px 3px 1px rgba(0, 0, 0, 0.15);\n",
       "      filter: drop-shadow(0px 1px 2px rgba(0, 0, 0, 0.3));\n",
       "      fill: #FFFFFF;\n",
       "    }\n",
       "  </style>\n",
       "\n",
       "      <script>\n",
       "        const buttonEl =\n",
       "          document.querySelector('#df-dcc6f650-edd5-4d26-b51b-6f465e8c0497 button.colab-df-convert');\n",
       "        buttonEl.style.display =\n",
       "          google.colab.kernel.accessAllowed ? 'block' : 'none';\n",
       "\n",
       "        async function convertToInteractive(key) {\n",
       "          const element = document.querySelector('#df-dcc6f650-edd5-4d26-b51b-6f465e8c0497');\n",
       "          const dataTable =\n",
       "            await google.colab.kernel.invokeFunction('convertToInteractive',\n",
       "                                                     [key], {});\n",
       "          if (!dataTable) return;\n",
       "\n",
       "          const docLinkHtml = 'Like what you see? Visit the ' +\n",
       "            '<a target=\"_blank\" href=https://colab.research.google.com/notebooks/data_table.ipynb>data table notebook</a>'\n",
       "            + ' to learn more about interactive tables.';\n",
       "          element.innerHTML = '';\n",
       "          dataTable['output_type'] = 'display_data';\n",
       "          await google.colab.output.renderOutput(dataTable, element);\n",
       "          const docLink = document.createElement('div');\n",
       "          docLink.innerHTML = docLinkHtml;\n",
       "          element.appendChild(docLink);\n",
       "        }\n",
       "      </script>\n",
       "    </div>\n",
       "  </div>\n",
       "  "
      ],
      "text/plain": [
       "    review_id          product_id          reviewer_id  stars  \\\n",
       "0  es_0491108  product_es_0296024  reviewer_es_0999081      1   \n",
       "1  es_0869872  product_es_0922286  reviewer_es_0216771      1   \n",
       "\n",
       "                                         review_body  \\\n",
       "0  Nada bueno se me fue ka pantalla en menos de 8...   \n",
       "1  Horrible, nos tuvimos que comprar otro porque ...   \n",
       "\n",
       "                                review_title language product_category  \n",
       "0                           television Nevir       es      electronics  \n",
       "1  Dinero tirado a la basura con esta compra       es      electronics  "
      ]
     },
     "execution_count": 1,
     "metadata": {},
     "output_type": "execute_result"
    }
   ],
   "source": [
    "import pandas as pd \n",
    "data = pd.read_csv(r\"/content/drive/MyDrive/dataset/dataset_es_train.csv\")\n",
    "data.head(2)"
   ]
  },
  {
   "cell_type": "code",
   "execution_count": 2,
   "metadata": {
    "colab": {
     "base_uri": "https://localhost:8080/",
     "height": 112
    },
    "executionInfo": {
     "elapsed": 411,
     "status": "ok",
     "timestamp": 1659184618395,
     "user": {
      "displayName": "Prajakta Joshi",
      "userId": "09236937732649609880"
     },
     "user_tz": -330
    },
    "id": "up0JWgPckU8W",
    "outputId": "47d8d0f2-85fa-4fbe-e992-1de792a13318"
   },
   "outputs": [
    {
     "data": {
      "text/html": [
       "\n",
       "  <div id=\"df-5a6d62a9-9ac2-4db8-8215-fc7093fe7c03\">\n",
       "    <div class=\"colab-df-container\">\n",
       "      <div>\n",
       "<style scoped>\n",
       "    .dataframe tbody tr th:only-of-type {\n",
       "        vertical-align: middle;\n",
       "    }\n",
       "\n",
       "    .dataframe tbody tr th {\n",
       "        vertical-align: top;\n",
       "    }\n",
       "\n",
       "    .dataframe thead th {\n",
       "        text-align: right;\n",
       "    }\n",
       "</style>\n",
       "<table border=\"1\" class=\"dataframe\">\n",
       "  <thead>\n",
       "    <tr style=\"text-align: right;\">\n",
       "      <th></th>\n",
       "      <th>review_body</th>\n",
       "      <th>stars</th>\n",
       "    </tr>\n",
       "  </thead>\n",
       "  <tbody>\n",
       "    <tr>\n",
       "      <th>0</th>\n",
       "      <td>Nada bueno se me fue ka pantalla en menos de 8...</td>\n",
       "      <td>1</td>\n",
       "    </tr>\n",
       "    <tr>\n",
       "      <th>1</th>\n",
       "      <td>Horrible, nos tuvimos que comprar otro porque ...</td>\n",
       "      <td>1</td>\n",
       "    </tr>\n",
       "  </tbody>\n",
       "</table>\n",
       "</div>\n",
       "      <button class=\"colab-df-convert\" onclick=\"convertToInteractive('df-5a6d62a9-9ac2-4db8-8215-fc7093fe7c03')\"\n",
       "              title=\"Convert this dataframe to an interactive table.\"\n",
       "              style=\"display:none;\">\n",
       "        \n",
       "  <svg xmlns=\"http://www.w3.org/2000/svg\" height=\"24px\"viewBox=\"0 0 24 24\"\n",
       "       width=\"24px\">\n",
       "    <path d=\"M0 0h24v24H0V0z\" fill=\"none\"/>\n",
       "    <path d=\"M18.56 5.44l.94 2.06.94-2.06 2.06-.94-2.06-.94-.94-2.06-.94 2.06-2.06.94zm-11 1L8.5 8.5l.94-2.06 2.06-.94-2.06-.94L8.5 2.5l-.94 2.06-2.06.94zm10 10l.94 2.06.94-2.06 2.06-.94-2.06-.94-.94-2.06-.94 2.06-2.06.94z\"/><path d=\"M17.41 7.96l-1.37-1.37c-.4-.4-.92-.59-1.43-.59-.52 0-1.04.2-1.43.59L10.3 9.45l-7.72 7.72c-.78.78-.78 2.05 0 2.83L4 21.41c.39.39.9.59 1.41.59.51 0 1.02-.2 1.41-.59l7.78-7.78 2.81-2.81c.8-.78.8-2.07 0-2.86zM5.41 20L4 18.59l7.72-7.72 1.47 1.35L5.41 20z\"/>\n",
       "  </svg>\n",
       "      </button>\n",
       "      \n",
       "  <style>\n",
       "    .colab-df-container {\n",
       "      display:flex;\n",
       "      flex-wrap:wrap;\n",
       "      gap: 12px;\n",
       "    }\n",
       "\n",
       "    .colab-df-convert {\n",
       "      background-color: #E8F0FE;\n",
       "      border: none;\n",
       "      border-radius: 50%;\n",
       "      cursor: pointer;\n",
       "      display: none;\n",
       "      fill: #1967D2;\n",
       "      height: 32px;\n",
       "      padding: 0 0 0 0;\n",
       "      width: 32px;\n",
       "    }\n",
       "\n",
       "    .colab-df-convert:hover {\n",
       "      background-color: #E2EBFA;\n",
       "      box-shadow: 0px 1px 2px rgba(60, 64, 67, 0.3), 0px 1px 3px 1px rgba(60, 64, 67, 0.15);\n",
       "      fill: #174EA6;\n",
       "    }\n",
       "\n",
       "    [theme=dark] .colab-df-convert {\n",
       "      background-color: #3B4455;\n",
       "      fill: #D2E3FC;\n",
       "    }\n",
       "\n",
       "    [theme=dark] .colab-df-convert:hover {\n",
       "      background-color: #434B5C;\n",
       "      box-shadow: 0px 1px 3px 1px rgba(0, 0, 0, 0.15);\n",
       "      filter: drop-shadow(0px 1px 2px rgba(0, 0, 0, 0.3));\n",
       "      fill: #FFFFFF;\n",
       "    }\n",
       "  </style>\n",
       "\n",
       "      <script>\n",
       "        const buttonEl =\n",
       "          document.querySelector('#df-5a6d62a9-9ac2-4db8-8215-fc7093fe7c03 button.colab-df-convert');\n",
       "        buttonEl.style.display =\n",
       "          google.colab.kernel.accessAllowed ? 'block' : 'none';\n",
       "\n",
       "        async function convertToInteractive(key) {\n",
       "          const element = document.querySelector('#df-5a6d62a9-9ac2-4db8-8215-fc7093fe7c03');\n",
       "          const dataTable =\n",
       "            await google.colab.kernel.invokeFunction('convertToInteractive',\n",
       "                                                     [key], {});\n",
       "          if (!dataTable) return;\n",
       "\n",
       "          const docLinkHtml = 'Like what you see? Visit the ' +\n",
       "            '<a target=\"_blank\" href=https://colab.research.google.com/notebooks/data_table.ipynb>data table notebook</a>'\n",
       "            + ' to learn more about interactive tables.';\n",
       "          element.innerHTML = '';\n",
       "          dataTable['output_type'] = 'display_data';\n",
       "          await google.colab.output.renderOutput(dataTable, element);\n",
       "          const docLink = document.createElement('div');\n",
       "          docLink.innerHTML = docLinkHtml;\n",
       "          element.appendChild(docLink);\n",
       "        }\n",
       "      </script>\n",
       "    </div>\n",
       "  </div>\n",
       "  "
      ],
      "text/plain": [
       "                                         review_body  stars\n",
       "0  Nada bueno se me fue ka pantalla en menos de 8...      1\n",
       "1  Horrible, nos tuvimos que comprar otro porque ...      1"
      ]
     },
     "execution_count": 2,
     "metadata": {},
     "output_type": "execute_result"
    }
   ],
   "source": [
    "data = data[['review_body','stars']]\n",
    "data.head(2)"
   ]
  },
  {
   "cell_type": "code",
   "execution_count": 4,
   "metadata": {
    "colab": {
     "base_uri": "https://localhost:8080/"
    },
    "executionInfo": {
     "elapsed": 13151,
     "status": "ok",
     "timestamp": 1659184644526,
     "user": {
      "displayName": "Prajakta Joshi",
      "userId": "09236937732649609880"
     },
     "user_tz": -330
    },
    "id": "6qo5G3P7knbK",
    "outputId": "5d29d6e9-865f-4d85-ad93-5be9be7c4f56"
   },
   "outputs": [
    {
     "name": "stdout",
     "output_type": "stream",
     "text": [
      "Looking in indexes: https://pypi.org/simple, https://us-python.pkg.dev/colab-wheels/public/simple/\n",
      "Collecting langdetect\n",
      "  Downloading langdetect-1.0.9.tar.gz (981 kB)\n",
      "\u001b[K     |████████████████████████████████| 981 kB 5.2 MB/s \n",
      "\u001b[?25hRequirement already satisfied: six in /usr/local/lib/python3.7/dist-packages (from langdetect) (1.15.0)\n",
      "Building wheels for collected packages: langdetect\n",
      "  Building wheel for langdetect (setup.py) ... \u001b[?25l\u001b[?25hdone\n",
      "  Created wheel for langdetect: filename=langdetect-1.0.9-py3-none-any.whl size=993242 sha256=8110259914137ae820eb94bd642975c1104630d08d23562445a9f01d5044e07f\n",
      "  Stored in directory: /root/.cache/pip/wheels/c5/96/8a/f90c59ed25d75e50a8c10a1b1c2d4c402e4dacfa87f3aff36a\n",
      "Successfully built langdetect\n",
      "Installing collected packages: langdetect\n",
      "Successfully installed langdetect-1.0.9\n",
      "Looking in indexes: https://pypi.org/simple, https://us-python.pkg.dev/colab-wheels/public/simple/\n",
      "Collecting googletrans==3.1.0a0\n",
      "  Downloading googletrans-3.1.0a0.tar.gz (19 kB)\n",
      "Collecting httpx==0.13.3\n",
      "  Downloading httpx-0.13.3-py3-none-any.whl (55 kB)\n",
      "\u001b[K     |████████████████████████████████| 55 kB 2.1 MB/s \n",
      "\u001b[?25hRequirement already satisfied: certifi in /usr/local/lib/python3.7/dist-packages (from httpx==0.13.3->googletrans==3.1.0a0) (2022.6.15)\n",
      "Collecting hstspreload\n",
      "  Downloading hstspreload-2022.7.10-py3-none-any.whl (1.4 MB)\n",
      "\u001b[K     |████████████████████████████████| 1.4 MB 10.1 MB/s \n",
      "\u001b[?25hCollecting sniffio\n",
      "  Downloading sniffio-1.2.0-py3-none-any.whl (10 kB)\n",
      "Collecting rfc3986<2,>=1.3\n",
      "  Downloading rfc3986-1.5.0-py2.py3-none-any.whl (31 kB)\n",
      "Requirement already satisfied: idna==2.* in /usr/local/lib/python3.7/dist-packages (from httpx==0.13.3->googletrans==3.1.0a0) (2.10)\n",
      "Collecting httpcore==0.9.*\n",
      "  Downloading httpcore-0.9.1-py3-none-any.whl (42 kB)\n",
      "\u001b[K     |████████████████████████████████| 42 kB 1.2 MB/s \n",
      "\u001b[?25hRequirement already satisfied: chardet==3.* in /usr/local/lib/python3.7/dist-packages (from httpx==0.13.3->googletrans==3.1.0a0) (3.0.4)\n",
      "Collecting h2==3.*\n",
      "  Downloading h2-3.2.0-py2.py3-none-any.whl (65 kB)\n",
      "\u001b[K     |████████████████████████████████| 65 kB 3.1 MB/s \n",
      "\u001b[?25hCollecting h11<0.10,>=0.8\n",
      "  Downloading h11-0.9.0-py2.py3-none-any.whl (53 kB)\n",
      "\u001b[K     |████████████████████████████████| 53 kB 1.9 MB/s \n",
      "\u001b[?25hCollecting hpack<4,>=3.0\n",
      "  Downloading hpack-3.0.0-py2.py3-none-any.whl (38 kB)\n",
      "Collecting hyperframe<6,>=5.2.0\n",
      "  Downloading hyperframe-5.2.0-py2.py3-none-any.whl (12 kB)\n",
      "Building wheels for collected packages: googletrans\n",
      "  Building wheel for googletrans (setup.py) ... \u001b[?25l\u001b[?25hdone\n",
      "  Created wheel for googletrans: filename=googletrans-3.1.0a0-py3-none-any.whl size=16367 sha256=08b0506ab6736007995dbfb2ba12815f82d1d49b01d4f368367d7ed67b84cacd\n",
      "  Stored in directory: /root/.cache/pip/wheels/0c/be/fe/93a6a40ffe386e16089e44dad9018ebab9dc4cb9eb7eab65ae\n",
      "Successfully built googletrans\n",
      "Installing collected packages: hyperframe, hpack, sniffio, h2, h11, rfc3986, httpcore, hstspreload, httpx, googletrans\n",
      "Successfully installed googletrans-3.1.0a0 h11-0.9.0 h2-3.2.0 hpack-3.0.0 hstspreload-2022.7.10 httpcore-0.9.1 httpx-0.13.3 hyperframe-5.2.0 rfc3986-1.5.0 sniffio-1.2.0\n"
     ]
    }
   ],
   "source": [
    "!pip install langdetect \n",
    "!pip install googletrans==3.1.0a0"
   ]
  },
  {
   "cell_type": "code",
   "execution_count": 37,
   "metadata": {
    "executionInfo": {
     "elapsed": 626,
     "status": "ok",
     "timestamp": 1659185697758,
     "user": {
      "displayName": "Prajakta Joshi",
      "userId": "09236937732649609880"
     },
     "user_tz": -330
    },
    "id": "WLrJgl3yk1WC"
   },
   "outputs": [],
   "source": [
    "# importing libraries\n",
    "from langdetect import detect\n",
    "from googletrans import Translator\n",
    "from nltk.tokenize import word_tokenize,RegexpTokenizer\n",
    "from nltk.stem import WordNetLemmatizer\n",
    "import seaborn as sns\n",
    "import matplotlib.pyplot as plt \n",
    "from string import punctuation \n",
    "from sklearn.feature_extraction.text import CountVectorizer,TfidfVectorizer\n",
    "from nltk.corpus import stopwords\n",
    "from sklearn.model_selection import train_test_split\n",
    "from sklearn.cluster import KMeans,AgglomerativeClustering\n",
    "from wordcloud import WordCloud\n",
    "from collections import Counter\n",
    "from sklearn.metrics import silhouette_score\n",
    "from gensim.models import Word2Vec\n",
    "from nltk.stem import LancasterStemmer,WordNetLemmatizer\n",
    "from nltk.corpus import stopwords\n",
    "from string import punctuation\n",
    "import contractions \n",
    "import unidecode \n",
    "import re \n",
    "from yellowbrick.cluster import SilhouetteVisualizer"
   ]
  },
  {
   "cell_type": "code",
   "execution_count": 5,
   "metadata": {
    "colab": {
     "base_uri": "https://localhost:8080/"
    },
    "executionInfo": {
     "elapsed": 14588,
     "status": "ok",
     "timestamp": 1659184663759,
     "user": {
      "displayName": "Prajakta Joshi",
      "userId": "09236937732649609880"
     },
     "user_tz": -330
    },
    "id": "L9plMTx6P22q",
    "outputId": "7935aba9-18b9-4a4d-a28f-1d66f41eb78e"
   },
   "outputs": [
    {
     "name": "stdout",
     "output_type": "stream",
     "text": [
      "Looking in indexes: https://pypi.org/simple, https://us-python.pkg.dev/colab-wheels/public/simple/\n",
      "Collecting contractions\n",
      "  Downloading contractions-0.1.72-py2.py3-none-any.whl (8.3 kB)\n",
      "Collecting textsearch>=0.0.21\n",
      "  Downloading textsearch-0.0.21-py2.py3-none-any.whl (7.5 kB)\n",
      "Collecting pyahocorasick\n",
      "  Downloading pyahocorasick-1.4.4-cp37-cp37m-manylinux_2_17_x86_64.manylinux2014_x86_64.whl (106 kB)\n",
      "\u001b[K     |████████████████████████████████| 106 kB 5.2 MB/s \n",
      "\u001b[?25hCollecting anyascii\n",
      "  Downloading anyascii-0.3.1-py3-none-any.whl (287 kB)\n",
      "\u001b[K     |████████████████████████████████| 287 kB 43.1 MB/s \n",
      "\u001b[?25hInstalling collected packages: pyahocorasick, anyascii, textsearch, contractions\n",
      "Successfully installed anyascii-0.3.1 contractions-0.1.72 pyahocorasick-1.4.4 textsearch-0.0.21\n",
      "Looking in indexes: https://pypi.org/simple, https://us-python.pkg.dev/colab-wheels/public/simple/\n",
      "Collecting unidecode\n",
      "  Downloading Unidecode-1.3.4-py3-none-any.whl (235 kB)\n",
      "\u001b[K     |████████████████████████████████| 235 kB 5.2 MB/s \n",
      "\u001b[?25hInstalling collected packages: unidecode\n",
      "Successfully installed unidecode-1.3.4\n"
     ]
    }
   ],
   "source": [
    "!pip install contractions\n",
    "!pip install unidecode"
   ]
  },
  {
   "cell_type": "code",
   "execution_count": 5,
   "metadata": {
    "colab": {
     "base_uri": "https://localhost:8080/"
    },
    "executionInfo": {
     "elapsed": 3,
     "status": "ok",
     "timestamp": 1659159390020,
     "user": {
      "displayName": "Prajakta Joshi",
      "userId": "09236937732649609880"
     },
     "user_tz": -330
    },
    "id": "lsfTAnjvmvxO",
    "outputId": "b8cb5edd-bee1-41f7-bb1e-85657a60bdd0"
   },
   "outputs": [
    {
     "data": {
      "text/plain": [
       "(200000, 2)"
      ]
     },
     "execution_count": 5,
     "metadata": {},
     "output_type": "execute_result"
    }
   ],
   "source": [
    "data.shape"
   ]
  },
  {
   "cell_type": "code",
   "execution_count": 9,
   "metadata": {
    "executionInfo": {
     "elapsed": 609,
     "status": "ok",
     "timestamp": 1659184698548,
     "user": {
      "displayName": "Prajakta Joshi",
      "userId": "09236937732649609880"
     },
     "user_tz": -330
    },
    "id": "uU7mWZ3WmyHP"
   },
   "outputs": [],
   "source": [
    "final_data = data.sample(1000)"
   ]
  },
  {
   "cell_type": "code",
   "execution_count": 10,
   "metadata": {
    "executionInfo": {
     "elapsed": 2,
     "status": "ok",
     "timestamp": 1659184700320,
     "user": {
      "displayName": "Prajakta Joshi",
      "userId": "09236937732649609880"
     },
     "user_tz": -330
    },
    "id": "dEI37WF5q2yv"
   },
   "outputs": [],
   "source": [
    "final_data.reset_index(drop=True,inplace=True)"
   ]
  },
  {
   "cell_type": "code",
   "execution_count": 27,
   "metadata": {
    "executionInfo": {
     "elapsed": 1,
     "status": "ok",
     "timestamp": 1659160505445,
     "user": {
      "displayName": "Prajakta Joshi",
      "userId": "09236937732649609880"
     },
     "user_tz": -330
    },
    "id": "VUKNdNqBm6gu"
   },
   "outputs": [],
   "source": [
    "def lang_detect(data):\n",
    "  lang = detect(data)\n",
    "  return lang"
   ]
  },
  {
   "cell_type": "code",
   "execution_count": 13,
   "metadata": {
    "colab": {
     "base_uri": "https://localhost:8080/",
     "height": 36
    },
    "executionInfo": {
     "elapsed": 681,
     "status": "ok",
     "timestamp": 1659159631519,
     "user": {
      "displayName": "Prajakta Joshi",
      "userId": "09236937732649609880"
     },
     "user_tz": -330
    },
    "id": "Iwi0UzoRnaLg",
    "outputId": "d2ae388c-c616-4511-9848-33658f690e6d"
   },
   "outputs": [
    {
     "data": {
      "application/vnd.google.colaboratory.intrinsic+json": {
       "type": "string"
      },
      "text/plain": [
       "'es'"
      ]
     },
     "execution_count": 13,
     "metadata": {},
     "output_type": "execute_result"
    }
   ],
   "source": [
    "lang_detect(final_data.review_body[1])"
   ]
  },
  {
   "cell_type": "code",
   "execution_count": 28,
   "metadata": {
    "executionInfo": {
     "elapsed": 9106,
     "status": "ok",
     "timestamp": 1659160519555,
     "user": {
      "displayName": "Prajakta Joshi",
      "userId": "09236937732649609880"
     },
     "user_tz": -330
    },
    "id": "zEO14fisncAo"
   },
   "outputs": [],
   "source": [
    "final_data['language_detected'] = final_data.review_body.apply(lang_detect)"
   ]
  },
  {
   "cell_type": "code",
   "execution_count": 15,
   "metadata": {
    "colab": {
     "base_uri": "https://localhost:8080/",
     "height": 112
    },
    "executionInfo": {
     "elapsed": 477,
     "status": "ok",
     "timestamp": 1659159716574,
     "user": {
      "displayName": "Prajakta Joshi",
      "userId": "09236937732649609880"
     },
     "user_tz": -330
    },
    "id": "gVp1QDWnn7Mf",
    "outputId": "f1c06c8b-59eb-4751-f9cd-6f3621982300"
   },
   "outputs": [
    {
     "data": {
      "text/html": [
       "\n",
       "  <div id=\"df-7483818b-773b-4aa6-b8fb-7a62acc4b115\">\n",
       "    <div class=\"colab-df-container\">\n",
       "      <div>\n",
       "<style scoped>\n",
       "    .dataframe tbody tr th:only-of-type {\n",
       "        vertical-align: middle;\n",
       "    }\n",
       "\n",
       "    .dataframe tbody tr th {\n",
       "        vertical-align: top;\n",
       "    }\n",
       "\n",
       "    .dataframe thead th {\n",
       "        text-align: right;\n",
       "    }\n",
       "</style>\n",
       "<table border=\"1\" class=\"dataframe\">\n",
       "  <thead>\n",
       "    <tr style=\"text-align: right;\">\n",
       "      <th></th>\n",
       "      <th>review_body</th>\n",
       "      <th>stars</th>\n",
       "      <th>language_detected</th>\n",
       "    </tr>\n",
       "  </thead>\n",
       "  <tbody>\n",
       "    <tr>\n",
       "      <th>0</th>\n",
       "      <td>Nada bueno se me fue ka pantalla en menos de 8...</td>\n",
       "      <td>1</td>\n",
       "      <td>es</td>\n",
       "    </tr>\n",
       "    <tr>\n",
       "      <th>1</th>\n",
       "      <td>Horrible, nos tuvimos que comprar otro porque ...</td>\n",
       "      <td>1</td>\n",
       "      <td>es</td>\n",
       "    </tr>\n",
       "  </tbody>\n",
       "</table>\n",
       "</div>\n",
       "      <button class=\"colab-df-convert\" onclick=\"convertToInteractive('df-7483818b-773b-4aa6-b8fb-7a62acc4b115')\"\n",
       "              title=\"Convert this dataframe to an interactive table.\"\n",
       "              style=\"display:none;\">\n",
       "        \n",
       "  <svg xmlns=\"http://www.w3.org/2000/svg\" height=\"24px\"viewBox=\"0 0 24 24\"\n",
       "       width=\"24px\">\n",
       "    <path d=\"M0 0h24v24H0V0z\" fill=\"none\"/>\n",
       "    <path d=\"M18.56 5.44l.94 2.06.94-2.06 2.06-.94-2.06-.94-.94-2.06-.94 2.06-2.06.94zm-11 1L8.5 8.5l.94-2.06 2.06-.94-2.06-.94L8.5 2.5l-.94 2.06-2.06.94zm10 10l.94 2.06.94-2.06 2.06-.94-2.06-.94-.94-2.06-.94 2.06-2.06.94z\"/><path d=\"M17.41 7.96l-1.37-1.37c-.4-.4-.92-.59-1.43-.59-.52 0-1.04.2-1.43.59L10.3 9.45l-7.72 7.72c-.78.78-.78 2.05 0 2.83L4 21.41c.39.39.9.59 1.41.59.51 0 1.02-.2 1.41-.59l7.78-7.78 2.81-2.81c.8-.78.8-2.07 0-2.86zM5.41 20L4 18.59l7.72-7.72 1.47 1.35L5.41 20z\"/>\n",
       "  </svg>\n",
       "      </button>\n",
       "      \n",
       "  <style>\n",
       "    .colab-df-container {\n",
       "      display:flex;\n",
       "      flex-wrap:wrap;\n",
       "      gap: 12px;\n",
       "    }\n",
       "\n",
       "    .colab-df-convert {\n",
       "      background-color: #E8F0FE;\n",
       "      border: none;\n",
       "      border-radius: 50%;\n",
       "      cursor: pointer;\n",
       "      display: none;\n",
       "      fill: #1967D2;\n",
       "      height: 32px;\n",
       "      padding: 0 0 0 0;\n",
       "      width: 32px;\n",
       "    }\n",
       "\n",
       "    .colab-df-convert:hover {\n",
       "      background-color: #E2EBFA;\n",
       "      box-shadow: 0px 1px 2px rgba(60, 64, 67, 0.3), 0px 1px 3px 1px rgba(60, 64, 67, 0.15);\n",
       "      fill: #174EA6;\n",
       "    }\n",
       "\n",
       "    [theme=dark] .colab-df-convert {\n",
       "      background-color: #3B4455;\n",
       "      fill: #D2E3FC;\n",
       "    }\n",
       "\n",
       "    [theme=dark] .colab-df-convert:hover {\n",
       "      background-color: #434B5C;\n",
       "      box-shadow: 0px 1px 3px 1px rgba(0, 0, 0, 0.15);\n",
       "      filter: drop-shadow(0px 1px 2px rgba(0, 0, 0, 0.3));\n",
       "      fill: #FFFFFF;\n",
       "    }\n",
       "  </style>\n",
       "\n",
       "      <script>\n",
       "        const buttonEl =\n",
       "          document.querySelector('#df-7483818b-773b-4aa6-b8fb-7a62acc4b115 button.colab-df-convert');\n",
       "        buttonEl.style.display =\n",
       "          google.colab.kernel.accessAllowed ? 'block' : 'none';\n",
       "\n",
       "        async function convertToInteractive(key) {\n",
       "          const element = document.querySelector('#df-7483818b-773b-4aa6-b8fb-7a62acc4b115');\n",
       "          const dataTable =\n",
       "            await google.colab.kernel.invokeFunction('convertToInteractive',\n",
       "                                                     [key], {});\n",
       "          if (!dataTable) return;\n",
       "\n",
       "          const docLinkHtml = 'Like what you see? Visit the ' +\n",
       "            '<a target=\"_blank\" href=https://colab.research.google.com/notebooks/data_table.ipynb>data table notebook</a>'\n",
       "            + ' to learn more about interactive tables.';\n",
       "          element.innerHTML = '';\n",
       "          dataTable['output_type'] = 'display_data';\n",
       "          await google.colab.output.renderOutput(dataTable, element);\n",
       "          const docLink = document.createElement('div');\n",
       "          docLink.innerHTML = docLinkHtml;\n",
       "          element.appendChild(docLink);\n",
       "        }\n",
       "      </script>\n",
       "    </div>\n",
       "  </div>\n",
       "  "
      ],
      "text/plain": [
       "                                         review_body  stars language_detected\n",
       "0  Nada bueno se me fue ka pantalla en menos de 8...      1                es\n",
       "1  Horrible, nos tuvimos que comprar otro porque ...      1                es"
      ]
     },
     "execution_count": 15,
     "metadata": {},
     "output_type": "execute_result"
    }
   ],
   "source": [
    "final_data.head(2)"
   ]
  },
  {
   "cell_type": "code",
   "execution_count": 7,
   "metadata": {
    "executionInfo": {
     "elapsed": 427,
     "status": "ok",
     "timestamp": 1659184682167,
     "user": {
      "displayName": "Prajakta Joshi",
      "userId": "09236937732649609880"
     },
     "user_tz": -330
    },
    "id": "zul2_p1woB0-"
   },
   "outputs": [],
   "source": [
    "def lang_trans(data):\n",
    "  tranlator = Translator()\n",
    "  trans_data = tranlator.translate(data)\n",
    "  return trans_data.text"
   ]
  },
  {
   "cell_type": "code",
   "execution_count": 17,
   "metadata": {
    "colab": {
     "base_uri": "https://localhost:8080/",
     "height": 36
    },
    "executionInfo": {
     "elapsed": 415,
     "status": "ok",
     "timestamp": 1659159859817,
     "user": {
      "displayName": "Prajakta Joshi",
      "userId": "09236937732649609880"
     },
     "user_tz": -330
    },
    "id": "Q3RSNG9vog0s",
    "outputId": "45fb0971-07e4-4bd8-e3fc-e1b5da067813"
   },
   "outputs": [
    {
     "data": {
      "application/vnd.google.colaboratory.intrinsic+json": {
       "type": "string"
      },
      "text/plain": [
       "'Horrible, we had to buy another one because neither we who know English, nor a computer technician, after an hour was able to install it'"
      ]
     },
     "execution_count": 17,
     "metadata": {},
     "output_type": "execute_result"
    }
   ],
   "source": [
    "lang_trans(final_data.review_body[1])"
   ]
  },
  {
   "cell_type": "code",
   "execution_count": 11,
   "metadata": {
    "executionInfo": {
     "elapsed": 178497,
     "status": "ok",
     "timestamp": 1659184885295,
     "user": {
      "displayName": "Prajakta Joshi",
      "userId": "09236937732649609880"
     },
     "user_tz": -330
    },
    "id": "IXUDhx9hokxJ"
   },
   "outputs": [],
   "source": [
    "final_data['Translated_review'] = final_data.review_body.apply(lang_trans)"
   ]
  },
  {
   "cell_type": "code",
   "execution_count": null,
   "metadata": {
    "id": "SffK_csYo-yl"
   },
   "outputs": [],
   "source": [
    "# EDA :\n",
    "# to understand distribution of data \n",
    "# to get insights "
   ]
  },
  {
   "cell_type": "code",
   "execution_count": 19,
   "metadata": {
    "colab": {
     "base_uri": "https://localhost:8080/",
     "height": 112
    },
    "executionInfo": {
     "elapsed": 5,
     "status": "ok",
     "timestamp": 1659160303406,
     "user": {
      "displayName": "Prajakta Joshi",
      "userId": "09236937732649609880"
     },
     "user_tz": -330
    },
    "id": "6JRXpX5vqN1P",
    "outputId": "319f0ee3-ae1d-483d-b0f7-328b8844f5ae"
   },
   "outputs": [
    {
     "data": {
      "text/html": [
       "\n",
       "  <div id=\"df-cac4835c-00dd-4903-8a4b-fd72d7e9cfa6\">\n",
       "    <div class=\"colab-df-container\">\n",
       "      <div>\n",
       "<style scoped>\n",
       "    .dataframe tbody tr th:only-of-type {\n",
       "        vertical-align: middle;\n",
       "    }\n",
       "\n",
       "    .dataframe tbody tr th {\n",
       "        vertical-align: top;\n",
       "    }\n",
       "\n",
       "    .dataframe thead th {\n",
       "        text-align: right;\n",
       "    }\n",
       "</style>\n",
       "<table border=\"1\" class=\"dataframe\">\n",
       "  <thead>\n",
       "    <tr style=\"text-align: right;\">\n",
       "      <th></th>\n",
       "      <th>review_body</th>\n",
       "      <th>stars</th>\n",
       "      <th>language_detected</th>\n",
       "      <th>Translated_review</th>\n",
       "    </tr>\n",
       "  </thead>\n",
       "  <tbody>\n",
       "    <tr>\n",
       "      <th>0</th>\n",
       "      <td>Nada bueno se me fue ka pantalla en menos de 8...</td>\n",
       "      <td>1</td>\n",
       "      <td>es</td>\n",
       "      <td>Nothing good the screen left me in less than 8...</td>\n",
       "    </tr>\n",
       "    <tr>\n",
       "      <th>1</th>\n",
       "      <td>Horrible, nos tuvimos que comprar otro porque ...</td>\n",
       "      <td>1</td>\n",
       "      <td>es</td>\n",
       "      <td>Horrible, we had to buy another one because ne...</td>\n",
       "    </tr>\n",
       "  </tbody>\n",
       "</table>\n",
       "</div>\n",
       "      <button class=\"colab-df-convert\" onclick=\"convertToInteractive('df-cac4835c-00dd-4903-8a4b-fd72d7e9cfa6')\"\n",
       "              title=\"Convert this dataframe to an interactive table.\"\n",
       "              style=\"display:none;\">\n",
       "        \n",
       "  <svg xmlns=\"http://www.w3.org/2000/svg\" height=\"24px\"viewBox=\"0 0 24 24\"\n",
       "       width=\"24px\">\n",
       "    <path d=\"M0 0h24v24H0V0z\" fill=\"none\"/>\n",
       "    <path d=\"M18.56 5.44l.94 2.06.94-2.06 2.06-.94-2.06-.94-.94-2.06-.94 2.06-2.06.94zm-11 1L8.5 8.5l.94-2.06 2.06-.94-2.06-.94L8.5 2.5l-.94 2.06-2.06.94zm10 10l.94 2.06.94-2.06 2.06-.94-2.06-.94-.94-2.06-.94 2.06-2.06.94z\"/><path d=\"M17.41 7.96l-1.37-1.37c-.4-.4-.92-.59-1.43-.59-.52 0-1.04.2-1.43.59L10.3 9.45l-7.72 7.72c-.78.78-.78 2.05 0 2.83L4 21.41c.39.39.9.59 1.41.59.51 0 1.02-.2 1.41-.59l7.78-7.78 2.81-2.81c.8-.78.8-2.07 0-2.86zM5.41 20L4 18.59l7.72-7.72 1.47 1.35L5.41 20z\"/>\n",
       "  </svg>\n",
       "      </button>\n",
       "      \n",
       "  <style>\n",
       "    .colab-df-container {\n",
       "      display:flex;\n",
       "      flex-wrap:wrap;\n",
       "      gap: 12px;\n",
       "    }\n",
       "\n",
       "    .colab-df-convert {\n",
       "      background-color: #E8F0FE;\n",
       "      border: none;\n",
       "      border-radius: 50%;\n",
       "      cursor: pointer;\n",
       "      display: none;\n",
       "      fill: #1967D2;\n",
       "      height: 32px;\n",
       "      padding: 0 0 0 0;\n",
       "      width: 32px;\n",
       "    }\n",
       "\n",
       "    .colab-df-convert:hover {\n",
       "      background-color: #E2EBFA;\n",
       "      box-shadow: 0px 1px 2px rgba(60, 64, 67, 0.3), 0px 1px 3px 1px rgba(60, 64, 67, 0.15);\n",
       "      fill: #174EA6;\n",
       "    }\n",
       "\n",
       "    [theme=dark] .colab-df-convert {\n",
       "      background-color: #3B4455;\n",
       "      fill: #D2E3FC;\n",
       "    }\n",
       "\n",
       "    [theme=dark] .colab-df-convert:hover {\n",
       "      background-color: #434B5C;\n",
       "      box-shadow: 0px 1px 3px 1px rgba(0, 0, 0, 0.15);\n",
       "      filter: drop-shadow(0px 1px 2px rgba(0, 0, 0, 0.3));\n",
       "      fill: #FFFFFF;\n",
       "    }\n",
       "  </style>\n",
       "\n",
       "      <script>\n",
       "        const buttonEl =\n",
       "          document.querySelector('#df-cac4835c-00dd-4903-8a4b-fd72d7e9cfa6 button.colab-df-convert');\n",
       "        buttonEl.style.display =\n",
       "          google.colab.kernel.accessAllowed ? 'block' : 'none';\n",
       "\n",
       "        async function convertToInteractive(key) {\n",
       "          const element = document.querySelector('#df-cac4835c-00dd-4903-8a4b-fd72d7e9cfa6');\n",
       "          const dataTable =\n",
       "            await google.colab.kernel.invokeFunction('convertToInteractive',\n",
       "                                                     [key], {});\n",
       "          if (!dataTable) return;\n",
       "\n",
       "          const docLinkHtml = 'Like what you see? Visit the ' +\n",
       "            '<a target=\"_blank\" href=https://colab.research.google.com/notebooks/data_table.ipynb>data table notebook</a>'\n",
       "            + ' to learn more about interactive tables.';\n",
       "          element.innerHTML = '';\n",
       "          dataTable['output_type'] = 'display_data';\n",
       "          await google.colab.output.renderOutput(dataTable, element);\n",
       "          const docLink = document.createElement('div');\n",
       "          docLink.innerHTML = docLinkHtml;\n",
       "          element.appendChild(docLink);\n",
       "        }\n",
       "      </script>\n",
       "    </div>\n",
       "  </div>\n",
       "  "
      ],
      "text/plain": [
       "                                         review_body  stars language_detected  \\\n",
       "0  Nada bueno se me fue ka pantalla en menos de 8...      1                es   \n",
       "1  Horrible, nos tuvimos que comprar otro porque ...      1                es   \n",
       "\n",
       "                                   Translated_review  \n",
       "0  Nothing good the screen left me in less than 8...  \n",
       "1  Horrible, we had to buy another one because ne...  "
      ]
     },
     "execution_count": 19,
     "metadata": {},
     "output_type": "execute_result"
    }
   ],
   "source": [
    "final_data.head(2)"
   ]
  },
  {
   "cell_type": "code",
   "execution_count": 21,
   "metadata": {
    "colab": {
     "base_uri": "https://localhost:8080/"
    },
    "executionInfo": {
     "elapsed": 399,
     "status": "ok",
     "timestamp": 1659160341652,
     "user": {
      "displayName": "Prajakta Joshi",
      "userId": "09236937732649609880"
     },
     "user_tz": -330
    },
    "id": "FI_mtblRqNXv",
    "outputId": "ef1c7ddc-2571-4248-8d0a-9c952157ba2a"
   },
   "outputs": [
    {
     "data": {
      "text/plain": [
       "array([1, 2, 3, 4, 5])"
      ]
     },
     "execution_count": 21,
     "metadata": {},
     "output_type": "execute_result"
    }
   ],
   "source": [
    "data.stars.unique()"
   ]
  },
  {
   "cell_type": "code",
   "execution_count": 31,
   "metadata": {
    "executionInfo": {
     "elapsed": 391,
     "status": "ok",
     "timestamp": 1659161011894,
     "user": {
      "displayName": "Prajakta Joshi",
      "userId": "09236937732649609880"
     },
     "user_tz": -330
    },
    "id": "zghmAgIRqV85"
   },
   "outputs": [],
   "source": [
    "# create target column with other existing column\n",
    "def sentiment_column(data):\n",
    "  if data<3 :\n",
    "    return 'Negative'\n",
    "  elif data==3:\n",
    "    return \"Neutral\"\n",
    "  elif (data>3) :\n",
    "    return \"Positive\""
   ]
  },
  {
   "cell_type": "code",
   "execution_count": 35,
   "metadata": {
    "executionInfo": {
     "elapsed": 391,
     "status": "ok",
     "timestamp": 1659161142191,
     "user": {
      "displayName": "Prajakta Joshi",
      "userId": "09236937732649609880"
     },
     "user_tz": -330
    },
    "id": "-ZETZwWItSJK"
   },
   "outputs": [],
   "source": [
    "final_data[\"Sentiment\"]  = final_data.stars.apply(sentiment_column)"
   ]
  },
  {
   "cell_type": "code",
   "execution_count": 41,
   "metadata": {
    "colab": {
     "base_uri": "https://localhost:8080/",
     "height": 424
    },
    "executionInfo": {
     "elapsed": 469,
     "status": "ok",
     "timestamp": 1659162259426,
     "user": {
      "displayName": "Prajakta Joshi",
      "userId": "09236937732649609880"
     },
     "user_tz": -330
    },
    "id": "7YxomEzlxtsU",
    "outputId": "58268e58-812d-4fc8-a445-025fcbb58992"
   },
   "outputs": [
    {
     "data": {
      "text/html": [
       "\n",
       "  <div id=\"df-aa92e38b-b6f9-4a38-8a02-473f376b4676\">\n",
       "    <div class=\"colab-df-container\">\n",
       "      <div>\n",
       "<style scoped>\n",
       "    .dataframe tbody tr th:only-of-type {\n",
       "        vertical-align: middle;\n",
       "    }\n",
       "\n",
       "    .dataframe tbody tr th {\n",
       "        vertical-align: top;\n",
       "    }\n",
       "\n",
       "    .dataframe thead th {\n",
       "        text-align: right;\n",
       "    }\n",
       "</style>\n",
       "<table border=\"1\" class=\"dataframe\">\n",
       "  <thead>\n",
       "    <tr style=\"text-align: right;\">\n",
       "      <th></th>\n",
       "      <th>review_body</th>\n",
       "      <th>stars</th>\n",
       "      <th>language_detected</th>\n",
       "      <th>Translated_review</th>\n",
       "      <th>Sentiment</th>\n",
       "    </tr>\n",
       "  </thead>\n",
       "  <tbody>\n",
       "    <tr>\n",
       "      <th>0</th>\n",
       "      <td>Algunos puertos no funcionan bien</td>\n",
       "      <td>3</td>\n",
       "      <td>es</td>\n",
       "      <td>Some ports do not work well</td>\n",
       "      <td>Neutral</td>\n",
       "    </tr>\n",
       "    <tr>\n",
       "      <th>1</th>\n",
       "      <td>Hola, me pone paquete entregado pero no lo he ...</td>\n",
       "      <td>1</td>\n",
       "      <td>es</td>\n",
       "      <td>Hello, it says package delivered but I have no...</td>\n",
       "      <td>Negative</td>\n",
       "    </tr>\n",
       "    <tr>\n",
       "      <th>2</th>\n",
       "      <td>Libro entretenido pero nada del otro mundo</td>\n",
       "      <td>3</td>\n",
       "      <td>es</td>\n",
       "      <td>Entertaining book but nothing to write home about</td>\n",
       "      <td>Neutral</td>\n",
       "    </tr>\n",
       "    <tr>\n",
       "      <th>3</th>\n",
       "      <td>Se rompió la tapa al día siguiente de colocarl...</td>\n",
       "      <td>1</td>\n",
       "      <td>es</td>\n",
       "      <td>The cover broke the day after placing it on th...</td>\n",
       "      <td>Negative</td>\n",
       "    </tr>\n",
       "    <tr>\n",
       "      <th>4</th>\n",
       "      <td>ME DURA MENOS TIEMPO QUE LA BATERÍA ORIGINAL Q...</td>\n",
       "      <td>1</td>\n",
       "      <td>en</td>\n",
       "      <td>IT LASTS LESS TIME THAN THE ORIGINAL BATTERY I...</td>\n",
       "      <td>Negative</td>\n",
       "    </tr>\n",
       "    <tr>\n",
       "      <th>...</th>\n",
       "      <td>...</td>\n",
       "      <td>...</td>\n",
       "      <td>...</td>\n",
       "      <td>...</td>\n",
       "      <td>...</td>\n",
       "    </tr>\n",
       "    <tr>\n",
       "      <th>995</th>\n",
       "      <td>No me gusta la pantalla. Al hacer fotos no se ...</td>\n",
       "      <td>3</td>\n",
       "      <td>es</td>\n",
       "      <td>I don't like the screen. When taking photos yo...</td>\n",
       "      <td>Neutral</td>\n",
       "    </tr>\n",
       "    <tr>\n",
       "      <th>996</th>\n",
       "      <td>Tantas cosas de unicornio juntas la volvió loc...</td>\n",
       "      <td>4</td>\n",
       "      <td>es</td>\n",
       "      <td>So many unicorn things together made her crazy...</td>\n",
       "      <td>Positive</td>\n",
       "    </tr>\n",
       "    <tr>\n",
       "      <th>997</th>\n",
       "      <td>Nada que decir. El producto me parece correcto...</td>\n",
       "      <td>3</td>\n",
       "      <td>es</td>\n",
       "      <td>Nothing to say. The product seems correct to m...</td>\n",
       "      <td>Neutral</td>\n",
       "    </tr>\n",
       "    <tr>\n",
       "      <th>998</th>\n",
       "      <td>Uno de ellos se apagaba enseguida y se conecta...</td>\n",
       "      <td>1</td>\n",
       "      <td>es</td>\n",
       "      <td>One of them turned off immediately and connect...</td>\n",
       "      <td>Negative</td>\n",
       "    </tr>\n",
       "    <tr>\n",
       "      <th>999</th>\n",
       "      <td>Se averió a los 7 meses con muy poco uso, los ...</td>\n",
       "      <td>2</td>\n",
       "      <td>es</td>\n",
       "      <td>It broke down after 7 months with very little ...</td>\n",
       "      <td>Negative</td>\n",
       "    </tr>\n",
       "  </tbody>\n",
       "</table>\n",
       "<p>1000 rows × 5 columns</p>\n",
       "</div>\n",
       "      <button class=\"colab-df-convert\" onclick=\"convertToInteractive('df-aa92e38b-b6f9-4a38-8a02-473f376b4676')\"\n",
       "              title=\"Convert this dataframe to an interactive table.\"\n",
       "              style=\"display:none;\">\n",
       "        \n",
       "  <svg xmlns=\"http://www.w3.org/2000/svg\" height=\"24px\"viewBox=\"0 0 24 24\"\n",
       "       width=\"24px\">\n",
       "    <path d=\"M0 0h24v24H0V0z\" fill=\"none\"/>\n",
       "    <path d=\"M18.56 5.44l.94 2.06.94-2.06 2.06-.94-2.06-.94-.94-2.06-.94 2.06-2.06.94zm-11 1L8.5 8.5l.94-2.06 2.06-.94-2.06-.94L8.5 2.5l-.94 2.06-2.06.94zm10 10l.94 2.06.94-2.06 2.06-.94-2.06-.94-.94-2.06-.94 2.06-2.06.94z\"/><path d=\"M17.41 7.96l-1.37-1.37c-.4-.4-.92-.59-1.43-.59-.52 0-1.04.2-1.43.59L10.3 9.45l-7.72 7.72c-.78.78-.78 2.05 0 2.83L4 21.41c.39.39.9.59 1.41.59.51 0 1.02-.2 1.41-.59l7.78-7.78 2.81-2.81c.8-.78.8-2.07 0-2.86zM5.41 20L4 18.59l7.72-7.72 1.47 1.35L5.41 20z\"/>\n",
       "  </svg>\n",
       "      </button>\n",
       "      \n",
       "  <style>\n",
       "    .colab-df-container {\n",
       "      display:flex;\n",
       "      flex-wrap:wrap;\n",
       "      gap: 12px;\n",
       "    }\n",
       "\n",
       "    .colab-df-convert {\n",
       "      background-color: #E8F0FE;\n",
       "      border: none;\n",
       "      border-radius: 50%;\n",
       "      cursor: pointer;\n",
       "      display: none;\n",
       "      fill: #1967D2;\n",
       "      height: 32px;\n",
       "      padding: 0 0 0 0;\n",
       "      width: 32px;\n",
       "    }\n",
       "\n",
       "    .colab-df-convert:hover {\n",
       "      background-color: #E2EBFA;\n",
       "      box-shadow: 0px 1px 2px rgba(60, 64, 67, 0.3), 0px 1px 3px 1px rgba(60, 64, 67, 0.15);\n",
       "      fill: #174EA6;\n",
       "    }\n",
       "\n",
       "    [theme=dark] .colab-df-convert {\n",
       "      background-color: #3B4455;\n",
       "      fill: #D2E3FC;\n",
       "    }\n",
       "\n",
       "    [theme=dark] .colab-df-convert:hover {\n",
       "      background-color: #434B5C;\n",
       "      box-shadow: 0px 1px 3px 1px rgba(0, 0, 0, 0.15);\n",
       "      filter: drop-shadow(0px 1px 2px rgba(0, 0, 0, 0.3));\n",
       "      fill: #FFFFFF;\n",
       "    }\n",
       "  </style>\n",
       "\n",
       "      <script>\n",
       "        const buttonEl =\n",
       "          document.querySelector('#df-aa92e38b-b6f9-4a38-8a02-473f376b4676 button.colab-df-convert');\n",
       "        buttonEl.style.display =\n",
       "          google.colab.kernel.accessAllowed ? 'block' : 'none';\n",
       "\n",
       "        async function convertToInteractive(key) {\n",
       "          const element = document.querySelector('#df-aa92e38b-b6f9-4a38-8a02-473f376b4676');\n",
       "          const dataTable =\n",
       "            await google.colab.kernel.invokeFunction('convertToInteractive',\n",
       "                                                     [key], {});\n",
       "          if (!dataTable) return;\n",
       "\n",
       "          const docLinkHtml = 'Like what you see? Visit the ' +\n",
       "            '<a target=\"_blank\" href=https://colab.research.google.com/notebooks/data_table.ipynb>data table notebook</a>'\n",
       "            + ' to learn more about interactive tables.';\n",
       "          element.innerHTML = '';\n",
       "          dataTable['output_type'] = 'display_data';\n",
       "          await google.colab.output.renderOutput(dataTable, element);\n",
       "          const docLink = document.createElement('div');\n",
       "          docLink.innerHTML = docLinkHtml;\n",
       "          element.appendChild(docLink);\n",
       "        }\n",
       "      </script>\n",
       "    </div>\n",
       "  </div>\n",
       "  "
      ],
      "text/plain": [
       "                                           review_body  stars  \\\n",
       "0                    Algunos puertos no funcionan bien      3   \n",
       "1    Hola, me pone paquete entregado pero no lo he ...      1   \n",
       "2           Libro entretenido pero nada del otro mundo      3   \n",
       "3    Se rompió la tapa al día siguiente de colocarl...      1   \n",
       "4    ME DURA MENOS TIEMPO QUE LA BATERÍA ORIGINAL Q...      1   \n",
       "..                                                 ...    ...   \n",
       "995  No me gusta la pantalla. Al hacer fotos no se ...      3   \n",
       "996  Tantas cosas de unicornio juntas la volvió loc...      4   \n",
       "997  Nada que decir. El producto me parece correcto...      3   \n",
       "998  Uno de ellos se apagaba enseguida y se conecta...      1   \n",
       "999  Se averió a los 7 meses con muy poco uso, los ...      2   \n",
       "\n",
       "    language_detected                                  Translated_review  \\\n",
       "0                  es                        Some ports do not work well   \n",
       "1                  es  Hello, it says package delivered but I have no...   \n",
       "2                  es  Entertaining book but nothing to write home about   \n",
       "3                  es  The cover broke the day after placing it on th...   \n",
       "4                  en  IT LASTS LESS TIME THAN THE ORIGINAL BATTERY I...   \n",
       "..                ...                                                ...   \n",
       "995                es  I don't like the screen. When taking photos yo...   \n",
       "996                es  So many unicorn things together made her crazy...   \n",
       "997                es  Nothing to say. The product seems correct to m...   \n",
       "998                es  One of them turned off immediately and connect...   \n",
       "999                es  It broke down after 7 months with very little ...   \n",
       "\n",
       "    Sentiment  \n",
       "0     Neutral  \n",
       "1    Negative  \n",
       "2     Neutral  \n",
       "3    Negative  \n",
       "4    Negative  \n",
       "..        ...  \n",
       "995   Neutral  \n",
       "996  Positive  \n",
       "997   Neutral  \n",
       "998  Negative  \n",
       "999  Negative  \n",
       "\n",
       "[1000 rows x 5 columns]"
      ]
     },
     "execution_count": 41,
     "metadata": {},
     "output_type": "execute_result"
    }
   ],
   "source": [
    "final_data"
   ]
  },
  {
   "cell_type": "code",
   "execution_count": 34,
   "metadata": {
    "colab": {
     "base_uri": "https://localhost:8080/",
     "height": 939
    },
    "executionInfo": {
     "elapsed": 946,
     "status": "ok",
     "timestamp": 1659161052993,
     "user": {
      "displayName": "Prajakta Joshi",
      "userId": "09236937732649609880"
     },
     "user_tz": -330
    },
    "id": "GPg0cbSIrx5L",
    "outputId": "41ebb9b0-3e79-4e0a-a921-aa90244550fc"
   },
   "outputs": [
    {
     "name": "stderr",
     "output_type": "stream",
     "text": [
      "/usr/local/lib/python3.7/dist-packages/seaborn/_decorators.py:43: FutureWarning: Pass the following variables as keyword args: x, y. From version 0.12, the only valid positional argument will be `data`, and passing other arguments without an explicit keyword will result in an error or misinterpretation.\n",
      "  FutureWarning\n"
     ]
    },
    {
     "data": {
      "image/png": "[encoded data removed]",
      "text/plain": [
       "<Figure size 720x1080 with 1 Axes>"
      ]
     },
     "metadata": {
      "needs_background": "light"
     },
     "output_type": "display_data"
    }
   ],
   "source": [
    "# barplot distribution for stars\n",
    "x_rating = final_data.stars.value_counts()\n",
    "y_rating = x_rating.sort_index()\n",
    "plt.figure(figsize=(10,15))\n",
    "sns.barplot(x_rating.index,x_rating.values)\n",
    "plt.title(\"Stars Distribution\",fontsize=20)\n",
    "plt.show()"
   ]
  },
  {
   "cell_type": "code",
   "execution_count": 37,
   "metadata": {
    "colab": {
     "base_uri": "https://localhost:8080/",
     "height": 660
    },
    "executionInfo": {
     "elapsed": 419,
     "status": "ok",
     "timestamp": 1659161227084,
     "user": {
      "displayName": "Prajakta Joshi",
      "userId": "09236937732649609880"
     },
     "user_tz": -330
    },
    "id": "tTFdYzURs_eN",
    "outputId": "6dd34ecd-370c-45a3-f9a1-f15eff33bf1d"
   },
   "outputs": [
    {
     "name": "stderr",
     "output_type": "stream",
     "text": [
      "/usr/local/lib/python3.7/dist-packages/seaborn/_decorators.py:43: FutureWarning: Pass the following variables as keyword args: x, y. From version 0.12, the only valid positional argument will be `data`, and passing other arguments without an explicit keyword will result in an error or misinterpretation.\n",
      "  FutureWarning\n"
     ]
    },
    {
     "data": {
      "image/png": "[encoded data removed]",
      "text/plain": [
       "<Figure size 720x720 with 1 Axes>"
      ]
     },
     "metadata": {
      "needs_background": "light"
     },
     "output_type": "display_data"
    }
   ],
   "source": [
    "x_rating = final_data.Sentiment.value_counts()\n",
    "y_rating = x_rating.sort_index()\n",
    "plt.figure(figsize=(10,10))\n",
    "sns.barplot(x_rating.index,x_rating.values)\n",
    "plt.title(\"Stars Distribution\",fontsize=10)\n",
    "plt.show()"
   ]
  },
  {
   "cell_type": "code",
   "execution_count": 60,
   "metadata": {
    "executionInfo": {
     "elapsed": 414,
     "status": "ok",
     "timestamp": 1659162918657,
     "user": {
      "displayName": "Prajakta Joshi",
      "userId": "09236937732649609880"
     },
     "user_tz": -330
    },
    "id": "0CMCVx3ktvtB"
   },
   "outputs": [],
   "source": [
    "def get_ngrams(df,column,ngram_range,n=None):\n",
    "  \"\"\"This function will give us ngrams and plot graph for ngrams\"\"\"\n",
    "  cv = CountVectorizer(ngram_range=ngram_range,stop_words='english')\n",
    "  bow = cv.fit_transform(df[column])\n",
    "  sum_of_words = bow.sum(axis=0)\n",
    "  \n",
    "  word_freq = [(word,sum_of_words[0,i]) for word,i in cv.vocabulary_.items()]\n",
    "  \n",
    "  word_freq = sorted(word_freq,key= lambda x : x[1],reverse=True)\n",
    "\n",
    "  df_ngrams = pd.DataFrame(word_freq[:n],columns = ['word','count'])\n",
    " \n",
    "  fig,ax = plt.subplots(figsize=(20,20))\n",
    "  plt.xticks(rotation='vertical')\n",
    "  fig = sns.barplot(x='word',y='count',data =df_ngrams )\n",
    "  plt.show()\n"
   ]
  },
  {
   "cell_type": "code",
   "execution_count": 61,
   "metadata": {
    "colab": {
     "base_uri": "https://localhost:8080/",
     "height": 1000
    },
    "executionInfo": {
     "elapsed": 1003,
     "status": "ok",
     "timestamp": 1659162921067,
     "user": {
      "displayName": "Prajakta Joshi",
      "userId": "09236937732649609880"
     },
     "user_tz": -330
    },
    "id": "-1uSgJzpw1qy",
    "outputId": "9314c65e-8390-4350-c98c-06d14487a134"
   },
   "outputs": [
    {
     "data": {
      "image/png": "[encoded data removed]",
      "text/plain": [
       "<Figure size 1440x1440 with 1 Axes>"
      ]
     },
     "metadata": {
      "needs_background": "light"
     },
     "output_type": "display_data"
    }
   ],
   "source": [
    "# unigrams\n",
    "get_ngrams(final_data,\"Translated_review\",(1,1),25)\n"
   ]
  },
  {
   "cell_type": "code",
   "execution_count": 62,
   "metadata": {
    "colab": {
     "base_uri": "https://localhost:8080/",
     "height": 1000
    },
    "executionInfo": {
     "elapsed": 1448,
     "status": "ok",
     "timestamp": 1659162928121,
     "user": {
      "displayName": "Prajakta Joshi",
      "userId": "09236937732649609880"
     },
     "user_tz": -330
    },
    "id": "PnpMwmOaxFDm",
    "outputId": "176b3e99-4bee-42cb-944e-b5f2952fdd06"
   },
   "outputs": [
    {
     "data": {
      "image/png": "[encoded data removed]",
      "text/plain": [
       "<Figure size 1440x1440 with 1 Axes>"
      ]
     },
     "metadata": {
      "needs_background": "light"
     },
     "output_type": "display_data"
    }
   ],
   "source": [
    "# bigrams\n",
    "get_ngrams(final_data,\"Translated_review\",(2,2),25)\n"
   ]
  },
  {
   "cell_type": "code",
   "execution_count": 63,
   "metadata": {
    "colab": {
     "base_uri": "https://localhost:8080/",
     "height": 1000
    },
    "executionInfo": {
     "elapsed": 2007,
     "status": "ok",
     "timestamp": 1659163040598,
     "user": {
      "displayName": "Prajakta Joshi",
      "userId": "09236937732649609880"
     },
     "user_tz": -330
    },
    "id": "dIdcNxJTzkNJ",
    "outputId": "2002f62b-eb1e-43d5-b90e-7d56b8954ce1"
   },
   "outputs": [
    {
     "data": {
      "image/png": "[encoded data removed]",
      "text/plain": [
       "<Figure size 1440x1440 with 1 Axes>"
      ]
     },
     "metadata": {
      "needs_background": "light"
     },
     "output_type": "display_data"
    }
   ],
   "source": [
    "# Trigrams\n",
    "get_ngrams(final_data,\"Translated_review\",(3,3),25)\n"
   ]
  },
  {
   "cell_type": "code",
   "execution_count": 65,
   "metadata": {
    "executionInfo": {
     "elapsed": 495,
     "status": "ok",
     "timestamp": 1659163651327,
     "user": {
      "displayName": "Prajakta Joshi",
      "userId": "09236937732649609880"
     },
     "user_tz": -330
    },
    "id": "KXLi4Wwt0s8r"
   },
   "outputs": [],
   "source": [
    "def wordcloud(data,column):\n",
    "  df = data[column].str.cat(sep=' ')\n",
    "  text = \" \".join([word for word in df.split() ])\n",
    "\n",
    "  word_cloud = WordCloud(width=700,height=400,background_color='white',min_font_size=10).generate(text)\n",
    "  plt.figure(figsize=(10,16))\n",
    "  plt.imshow(word_cloud)\n",
    "  plt.show()"
   ]
  },
  {
   "cell_type": "code",
   "execution_count": 66,
   "metadata": {
    "colab": {
     "base_uri": "https://localhost:8080/",
     "height": 370
    },
    "executionInfo": {
     "elapsed": 2560,
     "status": "ok",
     "timestamp": 1659163702948,
     "user": {
      "displayName": "Prajakta Joshi",
      "userId": "09236937732649609880"
     },
     "user_tz": -330
    },
    "id": "jIKDMuWG3CbU",
    "outputId": "cc7c7b24-96b5-49bf-daa8-36e37cc5f6b8"
   },
   "outputs": [
    {
     "data": {
      "image/png": "[encoded data removed]",
      "text/plain": [
       "<Figure size 720x1152 with 1 Axes>"
      ]
     },
     "metadata": {
      "needs_background": "light"
     },
     "output_type": "display_data"
    }
   ],
   "source": [
    "wordcloud(final_data,\"Translated_review\")\n"
   ]
  },
  {
   "cell_type": "code",
   "execution_count": null,
   "metadata": {
    "id": "XSKZf6oL3Odf"
   },
   "outputs": [],
   "source": [
    " # ontology creation \n",
    "#  {\"key\":\" velue\"} : {\"Poor Customer Service\" :[\"customer service bad\",\"bad customer service\"]}"
   ]
  },
  {
   "cell_type": "code",
   "execution_count": 67,
   "metadata": {
    "colab": {
     "base_uri": "https://localhost:8080/"
    },
    "executionInfo": {
     "elapsed": 12656,
     "status": "ok",
     "timestamp": 1659166740632,
     "user": {
      "displayName": "Prajakta Joshi",
      "userId": "09236937732649609880"
     },
     "user_tz": -330
    },
    "id": "6ghWyrnkB7gJ",
    "outputId": "d0409939-92fa-4793-ac5c-19f48bc0a206"
   },
   "outputs": [
    {
     "name": "stdout",
     "output_type": "stream",
     "text": [
      "Looking in indexes: https://pypi.org/simple, https://us-python.pkg.dev/colab-wheels/public/simple/\n",
      "Collecting rake_nltk\n",
      "  Downloading rake_nltk-1.0.6-py3-none-any.whl (9.1 kB)\n",
      "Requirement already satisfied: nltk<4.0.0,>=3.6.2 in /usr/local/lib/python3.7/dist-packages (from rake_nltk) (3.7)\n",
      "Requirement already satisfied: tqdm in /usr/local/lib/python3.7/dist-packages (from nltk<4.0.0,>=3.6.2->rake_nltk) (4.64.0)\n",
      "Requirement already satisfied: click in /usr/local/lib/python3.7/dist-packages (from nltk<4.0.0,>=3.6.2->rake_nltk) (7.1.2)\n",
      "Requirement already satisfied: regex>=2021.8.3 in /usr/local/lib/python3.7/dist-packages (from nltk<4.0.0,>=3.6.2->rake_nltk) (2022.6.2)\n",
      "Requirement already satisfied: joblib in /usr/local/lib/python3.7/dist-packages (from nltk<4.0.0,>=3.6.2->rake_nltk) (1.1.0)\n",
      "Installing collected packages: rake-nltk\n",
      "Successfully installed rake-nltk-1.0.6\n",
      "Looking in indexes: https://pypi.org/simple, https://us-python.pkg.dev/colab-wheels/public/simple/\n",
      "Collecting yake\n",
      "  Downloading yake-0.4.8-py2.py3-none-any.whl (60 kB)\n",
      "\u001b[K     |████████████████████████████████| 60 kB 5.3 MB/s \n",
      "\u001b[?25hRequirement already satisfied: tabulate in /usr/local/lib/python3.7/dist-packages (from yake) (0.8.10)\n",
      "Requirement already satisfied: click>=6.0 in /usr/local/lib/python3.7/dist-packages (from yake) (7.1.2)\n",
      "Requirement already satisfied: numpy in /usr/local/lib/python3.7/dist-packages (from yake) (1.21.6)\n",
      "Requirement already satisfied: networkx in /usr/local/lib/python3.7/dist-packages (from yake) (2.6.3)\n",
      "Collecting segtok\n",
      "  Downloading segtok-1.5.11-py3-none-any.whl (24 kB)\n",
      "Collecting jellyfish\n",
      "  Downloading jellyfish-0.9.0.tar.gz (132 kB)\n",
      "\u001b[K     |████████████████████████████████| 132 kB 37.2 MB/s \n",
      "\u001b[?25hRequirement already satisfied: regex in /usr/local/lib/python3.7/dist-packages (from segtok->yake) (2022.6.2)\n",
      "Building wheels for collected packages: jellyfish\n",
      "  Building wheel for jellyfish (setup.py) ... \u001b[?25l\u001b[?25hdone\n",
      "  Created wheel for jellyfish: filename=jellyfish-0.9.0-cp37-cp37m-linux_x86_64.whl size=73984 sha256=295717b243e90f48b3290a785234f9e426131382808c1ab57f5e1941b23d5420\n",
      "  Stored in directory: /root/.cache/pip/wheels/fe/99/4e/646ce766df0d070b0ef04db27aa11543e2767fda3075aec31b\n",
      "Successfully built jellyfish\n",
      "Installing collected packages: segtok, jellyfish, yake\n",
      "Successfully installed jellyfish-0.9.0 segtok-1.5.11 yake-0.4.8\n"
     ]
    }
   ],
   "source": [
    "!pip install rake_nltk\n",
    "!pip install yake"
   ]
  },
  {
   "cell_type": "code",
   "execution_count": 74,
   "metadata": {
    "colab": {
     "base_uri": "https://localhost:8080/"
    },
    "executionInfo": {
     "elapsed": 425,
     "status": "ok",
     "timestamp": 1659167086101,
     "user": {
      "displayName": "Prajakta Joshi",
      "userId": "09236937732649609880"
     },
     "user_tz": -330
    },
    "id": "YettMrB8Cxd2",
    "outputId": "4a64374e-5679-40b0-c5e7-009abff97174"
   },
   "outputs": [
    {
     "name": "stdout",
     "output_type": "stream",
     "text": [
      "['south asian countries', 'supporting saarc', 'saarc', 'india', 'consist']\n"
     ]
    }
   ],
   "source": [
    "from rake_nltk import Rake\n",
    "text  = \"SAARC is consist of south asian countries. India is supporting SAARC\"\n",
    "rak_keyphrases = Rake()\n",
    "rak_keyphrases.extract_keywords_from_text(text)\n",
    "keyphrases = rak_keyphrases.get_ranked_phrases()\n",
    "print(keyphrases)"
   ]
  },
  {
   "cell_type": "code",
   "execution_count": 76,
   "metadata": {
    "colab": {
     "base_uri": "https://localhost:8080/"
    },
    "executionInfo": {
     "elapsed": 415,
     "status": "ok",
     "timestamp": 1659167441107,
     "user": {
      "displayName": "Prajakta Joshi",
      "userId": "09236937732649609880"
     },
     "user_tz": -330
    },
    "id": "4ziVMbfvDhBA",
    "outputId": "ec4e5f75-ccfc-4d7b-c877-6adb8e1d5e94"
   },
   "outputs": [
    {
     "name": "stdout",
     "output_type": "stream",
     "text": [
      "('south asian countries', 0.01025390983179928)\n",
      "('asian countries', 0.038712704770480444)\n",
      "('consist of south', 0.06293003982763552)\n",
      "('south asian', 0.06293003982763552)\n",
      "('SAARC', 0.12817594065136526)\n"
     ]
    }
   ],
   "source": [
    "import yake \n",
    "# max_ngram_size = n : len of keyphrases : 3 : uni,bigram,trigram\n",
    "yake_keywords = yake.KeywordExtractor(n=3,top=5)\n",
    "keywords = yake_keywords.extract_keywords(text)\n",
    "for i in keywords:\n",
    "  print(i)"
   ]
  },
  {
   "cell_type": "code",
   "execution_count": 77,
   "metadata": {
    "executionInfo": {
     "elapsed": 443,
     "status": "ok",
     "timestamp": 1659167716688,
     "user": {
      "displayName": "Prajakta Joshi",
      "userId": "09236937732649609880"
     },
     "user_tz": -330
    },
    "id": "zJuD6FJcDkt2"
   },
   "outputs": [],
   "source": [
    "def yake_extractor(data):\n",
    "  keyword_extractor = yake.KeywordExtractor()\n",
    "  keywords = keyword_extractor.extract_keywords(data)\n",
    "  keywords_list = []\n",
    "  for kw in keywords:\n",
    "    keywords_list.append(kw[0])\n",
    "  return keywords_list"
   ]
  },
  {
   "cell_type": "code",
   "execution_count": 78,
   "metadata": {
    "executionInfo": {
     "elapsed": 19980,
     "status": "ok",
     "timestamp": 1659167785470,
     "user": {
      "displayName": "Prajakta Joshi",
      "userId": "09236937732649609880"
     },
     "user_tz": -330
    },
    "id": "1aKEhmjtGi9j"
   },
   "outputs": [],
   "source": [
    "keywords = final_data.Translated_review.apply(yake_extractor)\n"
   ]
  },
  {
   "cell_type": "code",
   "execution_count": 81,
   "metadata": {
    "colab": {
     "base_uri": "https://localhost:8080/"
    },
    "executionInfo": {
     "elapsed": 457,
     "status": "ok",
     "timestamp": 1659167929085,
     "user": {
      "displayName": "Prajakta Joshi",
      "userId": "09236937732649609880"
     },
     "user_tz": -330
    },
    "id": "XYYltqq4Gu_R",
    "outputId": "38273ef3-99d2-440c-d03e-475bc47b20ba"
   },
   "outputs": [
    {
     "data": {
      "text/plain": [
       "Counter({'ports': 4,\n",
       "         'work': 39,\n",
       "         'package delivered': 1,\n",
       "         'package': 14,\n",
       "         'delivered': 10,\n",
       "         'received': 23,\n",
       "         'Entertaining book': 1,\n",
       "         'write home': 1,\n",
       "         'Entertaining': 1,\n",
       "         'book': 15,\n",
       "         'write': 3,\n",
       "         'home': 12,\n",
       "         'cover broke': 1,\n",
       "         'broke the day': 1,\n",
       "         'day after placing': 1,\n",
       "         'mobile': 25,\n",
       "         'cover': 24,\n",
       "         'broke': 13,\n",
       "         'day': 28,\n",
       "         'placing': 2,\n",
       "         'disaster': 5,\n",
       "         'ORIGINAL BATTERY': 1,\n",
       "         'DURATION PROBLEM': 1,\n",
       "         'PREVIOUSLY': 1,\n",
       "         'SOLVED THE DURATION': 1,\n",
       "         'TIME': 2,\n",
       "         'ORIGINAL': 2,\n",
       "         'BATTERY': 1,\n",
       "         'CHEERS': 1,\n",
       "         'PROBLEM': 1,\n",
       "         'SOLVED': 1,\n",
       "         'DURATION': 1,\n",
       "         'Bag with Nordic': 1,\n",
       "         'Nordic filling': 1,\n",
       "         'canine patrol': 1,\n",
       "         'kids Recommendable': 1,\n",
       "         'Nordic': 1,\n",
       "         'Bag': 1,\n",
       "         'patrol': 1,\n",
       "         'Super fast shipping': 1,\n",
       "         'Tuesday it arrived': 1,\n",
       "         'great for kids': 1,\n",
       "         'filling': 1,\n",
       "         'canine': 1,\n",
       "         'Recommendable': 2,\n",
       "         'Super fast': 1,\n",
       "         'fast shipping': 5,\n",
       "         'estimated date stated': 1,\n",
       "         'great': 32,\n",
       "         'Sunday': 1,\n",
       "         'Tuesday': 1,\n",
       "         'estimated date': 1,\n",
       "         'style is nice': 1,\n",
       "         'months': 17,\n",
       "         'nice': 27,\n",
       "         'style': 1,\n",
       "         'broken': 29,\n",
       "         'recommend': 37,\n",
       "         'good product': 10,\n",
       "         'heats the food': 1,\n",
       "         'minutes': 3,\n",
       "         'Ideal for travel': 1,\n",
       "         'product': 112,\n",
       "         'good': 145,\n",
       "         'heats': 1,\n",
       "         'food': 4,\n",
       "         'Ideal': 3,\n",
       "         'travel': 4,\n",
       "         'happy': 15,\n",
       "         'recommended': 10,\n",
       "         'product is great': 2,\n",
       "         'lot of smoke': 1,\n",
       "         'reduce and start': 1,\n",
       "         'expected': 42,\n",
       "         'smoke': 1,\n",
       "         'easy to handle': 1,\n",
       "         'beginners': 1,\n",
       "         'careful': 3,\n",
       "         'lot': 37,\n",
       "         'reduce': 1,\n",
       "         'start': 5,\n",
       "         'handle': 6,\n",
       "         'modern': 2,\n",
       "         'easy': 23,\n",
       "         'mother wanted': 1,\n",
       "         'wanted a faucet': 1,\n",
       "         'wash her hair': 1,\n",
       "         'sink': 1,\n",
       "         'mother': 3,\n",
       "         'wanted': 8,\n",
       "         'faucet': 1,\n",
       "         'wash': 1,\n",
       "         'hair': 15,\n",
       "         'apparently': 2,\n",
       "         'good solution': 1,\n",
       "         'solution': 7,\n",
       "         'good quality': 26,\n",
       "         'quality': 116,\n",
       "         'thought': 15,\n",
       "         'days': 21,\n",
       "         'confirms': 1,\n",
       "         'comfortable': 29,\n",
       "         'levels too similar': 1,\n",
       "         'Light levels': 1,\n",
       "         'similar': 6,\n",
       "         'Light': 1,\n",
       "         'levels': 1,\n",
       "         'minimum': 3,\n",
       "         'pity': 3,\n",
       "         'aesthetic': 1,\n",
       "         'bathroom': 1,\n",
       "         'arrive in perfect': 1,\n",
       "         'perfect condition': 11,\n",
       "         'quickly': 11,\n",
       "         'arrive': 22,\n",
       "         'perfect': 37,\n",
       "         'condition': 16,\n",
       "         'beautiful': 9,\n",
       "         'girl loved': 2,\n",
       "         'girl': 5,\n",
       "         'loved': 5,\n",
       "         'give way quickly': 1,\n",
       "         'hip strap': 1,\n",
       "         'strap to make': 1,\n",
       "         'fine': 58,\n",
       "         'rubber': 5,\n",
       "         'give': 31,\n",
       "         'reinforcement': 2,\n",
       "         'hip': 1,\n",
       "         'strap': 5,\n",
       "         'make': 23,\n",
       "         'arrive before time': 1,\n",
       "         'bed': 7,\n",
       "         'stars': 12,\n",
       "         'time': 56,\n",
       "         'sell': 3,\n",
       "         'short': 17,\n",
       "         'bought': 68,\n",
       "         'Satisfied': 3,\n",
       "         'Apparently': 2,\n",
       "         'robustness': 1,\n",
       "         'Apparently it lacks': 1,\n",
       "         'lacks robustness': 1,\n",
       "         'Perfect': 9,\n",
       "         'bmw': 2,\n",
       "         'lacks': 5,\n",
       "         'fit': 31,\n",
       "         'Perfect fit': 1,\n",
       "         'number you wear': 1,\n",
       "         'boots fit': 1,\n",
       "         'wear': 4,\n",
       "         'boots': 2,\n",
       "         'number': 2,\n",
       "         'comfortable and warm': 1,\n",
       "         'super comfortable': 2,\n",
       "         'photo': 16,\n",
       "         'moment you put': 1,\n",
       "         'color': 21,\n",
       "         'Great': 10,\n",
       "         'warm': 4,\n",
       "         'super': 5,\n",
       "         'harm': 1,\n",
       "         'moment': 11,\n",
       "         'put': 56,\n",
       "         'TOTALLY RECOMMENDED': 1,\n",
       "         'PURCHASED BASED': 1,\n",
       "         'POSITIVE EVALUATIONS': 1,\n",
       "         'PRODUCT WAS PURCHASED': 1,\n",
       "         'PRODUCT': 1,\n",
       "         'CUSTOMERS': 1,\n",
       "         'ROBUSTNESS': 1,\n",
       "         'RECOMMENDED': 3,\n",
       "         'PURCHASED': 1,\n",
       "         'BASED': 1,\n",
       "         'POSITIVE': 1,\n",
       "         'EVALUATIONS': 1,\n",
       "         'OPERATION': 1,\n",
       "         'TOTALLY': 1,\n",
       "         'market price': 1,\n",
       "         'market': 4,\n",
       "         'price': 80,\n",
       "         'minute hand': 1,\n",
       "         'continues to work': 1,\n",
       "         'inside the sphere': 1,\n",
       "         'loose inside': 1,\n",
       "         'hand is loose': 1,\n",
       "         'minute': 2,\n",
       "         'hand': 10,\n",
       "         'sphere': 1,\n",
       "         'continues': 1,\n",
       "         'problem': 18,\n",
       "         'loose': 7,\n",
       "         'inside': 12,\n",
       "         'Good cover': 1,\n",
       "         'Good': 46,\n",
       "         'protects from shocks': 1,\n",
       "         'put the fingerprint': 1,\n",
       "         'difficult to put': 3,\n",
       "         'shocks': 2,\n",
       "         'fingerprint': 1,\n",
       "         'protects': 8,\n",
       "         'difficult': 13,\n",
       "         'Good mobile': 1,\n",
       "         'biggest downside': 1,\n",
       "         'image': 9,\n",
       "         'vault': 1,\n",
       "         'makes the projection': 1,\n",
       "         'images rather negligible': 1,\n",
       "         'angular': 1,\n",
       "         'diamond-shaped': 1,\n",
       "         'negligible': 1,\n",
       "         'remaining': 1,\n",
       "         'makes': 9,\n",
       "         'biggest': 1,\n",
       "         'downside': 4,\n",
       "         'projection': 1,\n",
       "         'lamp': 3,\n",
       "         'blissful vault': 1,\n",
       "         'images': 1,\n",
       "         'prevents any image': 1,\n",
       "         'image from coming': 1,\n",
       "         'ordered': 14,\n",
       "         'resistant': 11,\n",
       "         'good weather': 1,\n",
       "         'truth': 16,\n",
       "         'waiting': 10,\n",
       "         'weather': 1,\n",
       "         'jobs': 1,\n",
       "         'update': 2,\n",
       "         'long time': 13,\n",
       "         'begun to fray': 1,\n",
       "         'long': 22,\n",
       "         'materials': 10,\n",
       "         'put has begun': 1,\n",
       "         'bag': 15,\n",
       "         'fray': 1,\n",
       "         'durable': 2,\n",
       "         'bag is put': 1,\n",
       "         'begun': 1,\n",
       "         'portfolio': 1,\n",
       "         'practical': 12,\n",
       "         'perfect derailleur hanger': 1,\n",
       "         'perfect derailleur': 1,\n",
       "         'derailleur hanger': 1,\n",
       "         'hanger to carry': 1,\n",
       "         'backpack': 6,\n",
       "         'derailleur': 1,\n",
       "         'hanger': 1,\n",
       "         'carry': 6,\n",
       "         'reduced price': 1,\n",
       "         'price and compatible': 1,\n",
       "         'reduced': 2,\n",
       "         'compatible': 3,\n",
       "         'sealed box': 2,\n",
       "         'remains chewed': 1,\n",
       "         'arrived': 65,\n",
       "         'sealed': 5,\n",
       "         'box': 30,\n",
       "         'anti-fingerprint treatment': 1,\n",
       "         'true': 9,\n",
       "         'chewed': 1,\n",
       "         'anti-fingerprint': 1,\n",
       "         'treatment': 1,\n",
       "         'remains': 2,\n",
       "         'comfortable to check': 1,\n",
       "         'check the temperature': 1,\n",
       "         'thermometers': 1,\n",
       "         'encouraged': 1,\n",
       "         'found': 3,\n",
       "         'check': 2,\n",
       "         'temperature': 3,\n",
       "         'aquariums': 1,\n",
       "         'comments': 6,\n",
       "         'start to put': 1,\n",
       "         'changed the batteries': 1,\n",
       "         'batteries thinking': 1,\n",
       "         'bad buy': 1,\n",
       "         'surprise': 3,\n",
       "         'buy': 35,\n",
       "         'delay in delivery': 1,\n",
       "         'delivery': 16,\n",
       "         'delay': 3,\n",
       "         'month': 15,\n",
       "         'reached': 1,\n",
       "         'put it back': 1,\n",
       "         'opened the product': 1,\n",
       "         'back': 9,\n",
       "         'opened': 6,\n",
       "         'Great design': 1,\n",
       "         'design and quality': 1,\n",
       "         'long charge duration': 1,\n",
       "         'design': 12,\n",
       "         'long charge': 1,\n",
       "         'charge duration': 1,\n",
       "         'duration': 2,\n",
       "         'charge': 8,\n",
       "         'Packaging a bit': 1,\n",
       "         'bit shabby': 1,\n",
       "         'Packaging': 1,\n",
       "         'shabby': 1,\n",
       "         'bit': 29,\n",
       "         'delivery at home': 1,\n",
       "         'firm and adaptable': 1,\n",
       "         'correct shipping': 1,\n",
       "         'shipping and delivery': 1,\n",
       "         'adaptable product': 1,\n",
       "         'firm': 1,\n",
       "         'correct': 18,\n",
       "         'shipping': 23,\n",
       "         'mattress': 3,\n",
       "         'adaptable': 1,\n",
       "         'coming months': 1,\n",
       "         'product is durable': 1,\n",
       "         'manufacturer': 1,\n",
       "         'stays': 2,\n",
       "         'exact': 4,\n",
       "         'thickness': 2,\n",
       "         'Good material': 1,\n",
       "         'material and finish': 1,\n",
       "         'put a lock': 1,\n",
       "         'material': 18,\n",
       "         'finish': 10,\n",
       "         'person': 2,\n",
       "         'lock': 4,\n",
       "         'prevent': 3,\n",
       "         'fit the description': 1,\n",
       "         'description perfectly': 1,\n",
       "         'hold food perfectly': 1,\n",
       "         'food perfectly': 1,\n",
       "         'perfectly': 40,\n",
       "         'disposable plates': 1,\n",
       "         'description': 11,\n",
       "         'usual plastic': 1,\n",
       "         'hold food': 1,\n",
       "         'palm leaf': 1,\n",
       "         'plates': 2,\n",
       "         'reused': 1,\n",
       "         'turned out great': 1,\n",
       "         'disposable': 1,\n",
       "         'elegant': 7,\n",
       "         'usual': 4,\n",
       "         'plastic': 23,\n",
       "         'hold': 4,\n",
       "         'real silver color': 1,\n",
       "         'silver color': 1,\n",
       "         'real silver': 1,\n",
       "         'real': 4,\n",
       "         'silver': 2,\n",
       "         'Ideal for outdoor': 1,\n",
       "         'outdoor shows': 1,\n",
       "         'rain and wind': 1,\n",
       "         'fulfills its purpose': 1,\n",
       "         'purpose and protects': 1,\n",
       "         'shows': 5,\n",
       "         'wind': 2,\n",
       "         'Perfect shipping': 1,\n",
       "         'shipping and package': 1,\n",
       "         'outdoor': 1,\n",
       "         'fulfills': 15,\n",
       "         'purpose': 3,\n",
       "         'rain': 1,\n",
       "         'heard': 4,\n",
       "         'bulbs arrived broken': 1,\n",
       "         'arrived broken': 5,\n",
       "         'bulbs arrived': 1,\n",
       "         'bulbs': 2,\n",
       "         'lamps': 1,\n",
       "         'packaging': 7,\n",
       "         'suitable': 5,\n",
       "         'fragility': 1,\n",
       "         'excellent quality': 2,\n",
       "         'reasonable price': 2,\n",
       "         'excellent': 4,\n",
       "         'professional': 3,\n",
       "         'reasonable': 3,\n",
       "         'light': 19,\n",
       "         'hear': 5,\n",
       "         'love': 7,\n",
       "         'wide military belts': 1,\n",
       "         'thinking about work': 1,\n",
       "         'wide military': 1,\n",
       "         'military belts': 1,\n",
       "         'dress belt': 1,\n",
       "         'bought them thinking': 1,\n",
       "         'private life': 1,\n",
       "         'wide': 6,\n",
       "         'useless': 3,\n",
       "         'belts': 1,\n",
       "         'belt': 3,\n",
       "         'thinking': 4,\n",
       "         'military': 1,\n",
       "         'private': 1,\n",
       "         'life': 5,\n",
       "         'hancho': 1,\n",
       "         'dress': 1,\n",
       "         'rest': 10,\n",
       "         'works correctly': 5,\n",
       "         'camera complies': 1,\n",
       "         'complies and works': 1,\n",
       "         'correctly': 9,\n",
       "         'camera': 8,\n",
       "         'complies': 6,\n",
       "         'works': 44,\n",
       "         'works perfect': 1,\n",
       "         'color tone': 1,\n",
       "         'tone': 1,\n",
       "         'sad colors': 1,\n",
       "         'sad': 2,\n",
       "         'stuck': 3,\n",
       "         'colors': 8,\n",
       "         'pieces arrived': 1,\n",
       "         'pieces': 11,\n",
       "         'good backpack differs': 1,\n",
       "         'quality product': 5,\n",
       "         'Lowepro backpack zippers': 1,\n",
       "         'backpack zippers give': 1,\n",
       "         'Lowepro backpack': 1,\n",
       "         'good backpack': 1,\n",
       "         'backpack differs': 1,\n",
       "         'zippers give': 1,\n",
       "         'backpack zippers': 1,\n",
       "         'Lowepro': 1,\n",
       "         'details': 8,\n",
       "         'crucial': 1,\n",
       "         'hard': 12,\n",
       "         'differs': 1,\n",
       "         'crappy': 2,\n",
       "         'feel cheated': 3,\n",
       "         'cheated': 3,\n",
       "         'oil': 2,\n",
       "         'feel': 10,\n",
       "         'viscosity nor smell': 1,\n",
       "         'fake oil': 1,\n",
       "         'plasticized and sealed': 1,\n",
       "         'original oil': 1,\n",
       "         'bottles are perfectly': 1,\n",
       "         'perfectly plasticized': 1,\n",
       "         'Amazon should verify': 1,\n",
       "         'suppliers are trustworthy': 1,\n",
       "         'fake': 1,\n",
       "         'viscosity': 1,\n",
       "         'smell': 9,\n",
       "         'Amazon': 18,\n",
       "         'trustworthy': 1,\n",
       "         'bottles': 1,\n",
       "         'faulty plug': 1,\n",
       "         'replaced a faulty': 1,\n",
       "         'plug': 4,\n",
       "         'replaced': 3,\n",
       "         'faulty': 1,\n",
       "         'Minimally reduces stretch': 1,\n",
       "         'reduces stretch marks': 1,\n",
       "         'Minimally reduces': 1,\n",
       "         'stretch marks': 1,\n",
       "         'reduces stretch': 1,\n",
       "         'Minimally': 1,\n",
       "         'marks': 4,\n",
       "         'Smells great': 1,\n",
       "         'reduces': 1,\n",
       "         'stretch': 1,\n",
       "         'Smells': 1,\n",
       "         'sticky': 3,\n",
       "         'Parts were missing': 1,\n",
       "         'missing and looked': 1,\n",
       "         'Parts': 1,\n",
       "         'photos': 6,\n",
       "         'missing': 6,\n",
       "         'looked': 3,\n",
       "         'put any criticism': 1,\n",
       "         'criticism': 1,\n",
       "         'worth': 19,\n",
       "         'make any noise': 1,\n",
       "         'Good pretty': 1,\n",
       "         'pretty and cheap': 1,\n",
       "         'cheap': 4,\n",
       "         'noise': 8,\n",
       "         'pretty': 15,\n",
       "         'gopro hero': 1,\n",
       "         'inside the case': 1,\n",
       "         'camera moves': 1,\n",
       "         'hero': 1,\n",
       "         'case': 20,\n",
       "         'gopro': 1,\n",
       "         'big': 14,\n",
       "         'moves': 6,\n",
       "         'burned plastic': 1,\n",
       "         'corner': 4,\n",
       "         'burned': 2,\n",
       "         'bad thing': 6,\n",
       "         'tare': 1,\n",
       "         'bad': 45,\n",
       "         'thing': 28,\n",
       "         'stopped working': 8,\n",
       "         'free shipping': 1,\n",
       "         'company asked': 1,\n",
       "         'solution they gave': 1,\n",
       "         'shipping costs': 3,\n",
       "         'paying the shipping': 1,\n",
       "         'answer my messages': 1,\n",
       "         'working': 13,\n",
       "         'defective': 7,\n",
       "         'refund the difference': 1,\n",
       "         'answer': 3,\n",
       "         'stopped': 8,\n",
       "         'complying': 1,\n",
       "         'company': 5,\n",
       "         'asked': 7,\n",
       "         'verify': 1,\n",
       "         'messages': 2,\n",
       "         'gave': 8,\n",
       "         'response from Amazon': 1,\n",
       "         'calls nonstop': 1,\n",
       "         'return': 21,\n",
       "         'nonstop': 1,\n",
       "         'response': 5,\n",
       "         'closes': 2,\n",
       "         'calls': 2,\n",
       "         'Good blowing power': 1,\n",
       "         'dust collector bag': 1,\n",
       "         'Good blowing': 1,\n",
       "         'blowing power': 1,\n",
       "         'vacuum cleaner': 2,\n",
       "         'collector bag': 1,\n",
       "         'dust collector': 1,\n",
       "         'power': 12,\n",
       "         'cleaner': 2,\n",
       "         'blowing': 1,\n",
       "         'vacuum': 3,\n",
       "         'dust': 1,\n",
       "         'collector': 1,\n",
       "         'uncomfortable at night': 1,\n",
       "         'sleep warm': 1,\n",
       "         'appreciated any change': 1,\n",
       "         'area': 3,\n",
       "         'night': 9,\n",
       "         'noticeable': 5,\n",
       "         'uncomfortable': 5,\n",
       "         'starts': 4,\n",
       "         'hot': 6,\n",
       "         'winter': 2,\n",
       "         'sleep': 1,\n",
       "         'appreciated': 2,\n",
       "         'change': 14,\n",
       "         'garden games': 1,\n",
       "         'fun for garden': 1,\n",
       "         'games': 2,\n",
       "         'fun': 3,\n",
       "         'garden': 1,\n",
       "         'works great': 2,\n",
       "         'hot afternoons': 1,\n",
       "         'afternoons': 1,\n",
       "         'pass the time': 1,\n",
       "         'time on hot': 1,\n",
       "         'pass': 5,\n",
       "         'factory errors': 1,\n",
       "         'article left': 1,\n",
       "         'couple of factory': 1,\n",
       "         'selling company': 1,\n",
       "         'errors': 3,\n",
       "         'article': 9,\n",
       "         'left': 19,\n",
       "         'desired': 6,\n",
       "         'couple': 4,\n",
       "         'factory': 4,\n",
       "         'noted': 1,\n",
       "         'selling': 1,\n",
       "         'problems': 13,\n",
       "         'received this product': 1,\n",
       "         'difficult to close': 2,\n",
       "         'zipper has broken': 1,\n",
       "         'close': 10,\n",
       "         'zipper': 5,\n",
       "         'small': 40,\n",
       "         'Spanish': 6,\n",
       "         'priced': 2,\n",
       "         'Recommended': 3,\n",
       "         'quality-price': 2,\n",
       "         'Cardboard box wrapped': 1,\n",
       "         'Cardboard box': 1,\n",
       "         'prime tape': 1,\n",
       "         'box wrapped': 1,\n",
       "         'Cardboard': 1,\n",
       "         'Fishbowl wrapped': 1,\n",
       "         'wrapped with prime': 1,\n",
       "         'conditions': 2,\n",
       "         'tape': 4,\n",
       "         'wrapped': 4,\n",
       "         'fault': 2,\n",
       "         'house': 2,\n",
       "         'prime': 1,\n",
       "         'Conclusion': 1,\n",
       "         'normal plastic film': 1,\n",
       "         'Fishbowl': 1,\n",
       "         'times': 14,\n",
       "         'good materials': 2,\n",
       "         'monitor': 3,\n",
       "         'shows made': 1,\n",
       "         'connect the usb-c': 1,\n",
       "         'made of good': 2,\n",
       "         'noisy while running': 1,\n",
       "         'unit was noisy': 1,\n",
       "         'big deal': 1,\n",
       "         'made': 21,\n",
       "         'connect': 6,\n",
       "         'usb-c': 1,\n",
       "         'running': 1,\n",
       "         'deal': 1,\n",
       "         'annoying': 5,\n",
       "         'unit': 1,\n",
       "         'noisy': 3,\n",
       "         'touch function': 1,\n",
       "         'function': 17,\n",
       "         'touch': 9,\n",
       "         'device seems good': 1,\n",
       "         'stays connected': 1,\n",
       "         'device': 10,\n",
       "         'connected': 5,\n",
       "         'reconnect': 2,\n",
       "         'end the call': 1,\n",
       "         'disconnected': 2,\n",
       "         'end': 10,\n",
       "         'call': 4,\n",
       "         'Works fine': 1,\n",
       "         'Works': 4,\n",
       "         'stick': 8,\n",
       "         'half years': 2,\n",
       "         'crouch': 1,\n",
       "         'daughter': 10,\n",
       "         'half': 13,\n",
       "         'years': 11,\n",
       "         'Fatal operation': 1,\n",
       "         'Fatal': 2,\n",
       "         'operation': 2,\n",
       "         'Flash the light': 1,\n",
       "         'dark driving': 1,\n",
       "         'Flash': 1,\n",
       "         'driving': 1,\n",
       "         'danger': 1,\n",
       "         'leaves': 10,\n",
       "         'dark': 2,\n",
       "         'timer was broken': 1,\n",
       "         'work properly': 3,\n",
       "         'large size': 1,\n",
       "         'timer': 1,\n",
       "         'properly': 5,\n",
       "         'returned': 13,\n",
       "         'buying': 8,\n",
       "         'convinced': 1,\n",
       "         'large': 11,\n",
       "         'size': 34,\n",
       "         'picture': 1,\n",
       "         'Medium high quality': 1,\n",
       "         'Medium high': 1,\n",
       "         'high quality': 3,\n",
       "         'Medium': 1,\n",
       "         'Good size': 4,\n",
       "         'high': 7,\n",
       "         'strong': 6,\n",
       "         'ball of rope': 1,\n",
       "         'rope': 4,\n",
       "         'reinforcement inside': 1,\n",
       "         'accompanied': 1,\n",
       "         'ball': 2,\n",
       "         'makes it weigh': 1,\n",
       "         'flimsy product': 1,\n",
       "         'plastic and resin': 1,\n",
       "         'robust and stable': 1,\n",
       "         'stable feeling': 1,\n",
       "         'electronic issues': 1,\n",
       "         'weigh': 3,\n",
       "         'weighs': 7,\n",
       "         'impression': 1,\n",
       "         'flimsy': 6,\n",
       "         'resin': 1,\n",
       "         'taste': 5,\n",
       "         'robust': 2,\n",
       "         'poor quality': 11,\n",
       "         'light trembles': 1,\n",
       "         'dirty inside': 1,\n",
       "         'poor': 17,\n",
       "         'trembles': 1,\n",
       "         'dirty': 3,\n",
       "         'Happy': 2,\n",
       "         'fits': 18,\n",
       "         'half-open boats': 1,\n",
       "         'Acrylic powders': 1,\n",
       "         'bit small': 5,\n",
       "         'complete': 8,\n",
       "         'fine to start': 1,\n",
       "         'boats': 1,\n",
       "         'open': 9,\n",
       "         'Acrylic': 1,\n",
       "         'half-open': 1,\n",
       "         'guess': 3,\n",
       "         'transport': 5,\n",
       "         'powders': 1,\n",
       "         'expected time': 1,\n",
       "         'seller': 13,\n",
       "         'arrive in expected': 1,\n",
       "         'worth spending': 1,\n",
       "         'blow': 3,\n",
       "         'spending': 1,\n",
       "         'correct product': 2,\n",
       "         'larger': 5,\n",
       "         'entering the elevator': 1,\n",
       "         'delivery service': 1,\n",
       "         'refused to leave': 1,\n",
       "         'address': 2,\n",
       "         'elevator': 2,\n",
       "         'portal': 1,\n",
       "         'disappointed': 5,\n",
       "         'service': 5,\n",
       "         'refused': 1,\n",
       "         'leave': 7,\n",
       "         'entering': 1,\n",
       "         'soft': 7,\n",
       "         'clean': 5,\n",
       "         'feeling': 3,\n",
       "         'combine': 1,\n",
       "         'Harry Potter': 1,\n",
       "         'fan of Harry': 1,\n",
       "         'pure geekiness': 1,\n",
       "         'big fan': 1,\n",
       "         'Harry': 1,\n",
       "         'Potter': 1,\n",
       "         'geekiness': 1,\n",
       "         'maintains the temperature': 1,\n",
       "         'bag or backpack': 1,\n",
       "         'fan': 4,\n",
       "         'pure': 1,\n",
       "         'maintains': 1,\n",
       "         'tip': 3,\n",
       "         'content': 4,\n",
       "         'Good quality product': 1,\n",
       "         'Good quality': 10,\n",
       "         'Hermetic closure': 1,\n",
       "         'Hermetic': 1,\n",
       "         'closure': 3,\n",
       "         'liquids': 1,\n",
       "         'lose liquids': 1,\n",
       "         'purchase': 16,\n",
       "         'lose': 2,\n",
       "         'performing basic office': 1,\n",
       "         'competitive tablet': 1,\n",
       "         'perfect for performing': 1,\n",
       "         'multimedia tasks': 1,\n",
       "         'performing basic': 1,\n",
       "         'basic office': 1,\n",
       "         'office and multimedia': 1,\n",
       "         'tablet': 4,\n",
       "         'tasks': 2,\n",
       "         'competitive': 1,\n",
       "         'performing': 1,\n",
       "         'basic': 4,\n",
       "         'office': 1,\n",
       "         'multimedia': 1,\n",
       "         'loads perfectly': 1,\n",
       "         'original': 19,\n",
       "         'loads': 1,\n",
       "         'loading process slower': 1,\n",
       "         'ssd': 1,\n",
       "         'loading process': 1,\n",
       "         'process slower': 1,\n",
       "         'previous': 2,\n",
       "         'find': 14,\n",
       "         'loading': 1,\n",
       "         'process': 2,\n",
       "         'slower': 1,\n",
       "         'love the cover': 1,\n",
       "         'Felt': 1,\n",
       "         'bought the size': 1,\n",
       "         'padded': 1,\n",
       "         'good gift option': 1,\n",
       "         'carry a backpack': 1,\n",
       "         'protected place': 1,\n",
       "         'good gift': 1,\n",
       "         'gift option': 1,\n",
       "         'ipad': 3,\n",
       "         'MacBook': 2,\n",
       "         'Incredible pack': 1,\n",
       "         'movie lovers': 1,\n",
       "         'tired of watching': 1,\n",
       "         'Incredible': 1,\n",
       "         'lovers': 2,\n",
       "         'miss': 1,\n",
       "         'pack': 3,\n",
       "         'tired': 1,\n",
       "         'watching': 1,\n",
       "         'movie': 1,\n",
       "         'movies': 2,\n",
       "         'rest is fine': 1,\n",
       "         'compass': 2,\n",
       "         'concept': 1,\n",
       "         'whistle': 1,\n",
       "         'knife': 2,\n",
       "         'poof': 1,\n",
       "         'box inside crushed': 1,\n",
       "         'broken pieces': 1,\n",
       "         'inside crushed': 1,\n",
       "         'Amazon box': 1,\n",
       "         'box inside': 1,\n",
       "         'worst thing': 2,\n",
       "         'crushed': 1,\n",
       "         'worst': 6,\n",
       "         'return and refund': 1,\n",
       "         'perfect outside Amazon': 1,\n",
       "         'costs': 4,\n",
       "         'poorly wound': 1,\n",
       "         'fix in time': 1,\n",
       "         'leave it printing': 1,\n",
       "         'printing without supervision': 1,\n",
       "         'material melted': 1,\n",
       "         'knots were made': 1,\n",
       "         'knots': 1,\n",
       "         'wound': 1,\n",
       "         'filament': 1,\n",
       "         'melted': 1,\n",
       "         'poorly': 3,\n",
       "         'printing': 1,\n",
       "         'supervision': 1,\n",
       "         'fix': 2,\n",
       "         'material is good': 1,\n",
       "         'flimsy material': 1,\n",
       "         'worth a bit': 1,\n",
       "         'iron lever': 1,\n",
       "         'car upholstery': 1,\n",
       "         'tool': 3,\n",
       "         'iron': 3,\n",
       "         'support a minimum': 1,\n",
       "         'minimum of force': 1,\n",
       "         'force in order': 1,\n",
       "         'order to remove': 1,\n",
       "         'remove the staples': 1,\n",
       "         'lever': 1,\n",
       "         'levers': 1,\n",
       "         'upholstery': 2,\n",
       "         'support': 10,\n",
       "         'earlier than expected': 2,\n",
       "         'German and Italian': 1,\n",
       "         'arrived earlier': 1,\n",
       "         'French': 3,\n",
       "         'English': 6,\n",
       "         'German': 1,\n",
       "         'Italian': 3,\n",
       "         'earlier': 1,\n",
       "         'drawback': 4,\n",
       "         'instructions': 8,\n",
       "         'hope they soften': 1,\n",
       "         'stiff': 2,\n",
       "         'shoulders': 1,\n",
       "         'hope': 9,\n",
       "         'soften': 1,\n",
       "         'missing pieces': 1,\n",
       "         'box came broken': 1,\n",
       "         'fulfills its function': 10,\n",
       "         'product fulfills': 2,\n",
       "         'put sugared almonds': 1,\n",
       "         'put sugared': 1,\n",
       "         'sugared almonds': 1,\n",
       "         'wedding': 2,\n",
       "         'sugared': 1,\n",
       "         'almonds': 1,\n",
       "         'Small and functional': 1,\n",
       "         'Small': 2,\n",
       "         'functional': 2,\n",
       "         'entire vision': 1,\n",
       "         'lenses are small': 1,\n",
       "         'cover the entire': 2,\n",
       "         'vision': 2,\n",
       "         'lenses': 1,\n",
       "         'entire': 2,\n",
       "         'laptop with Windows': 1,\n",
       "         'end after suspending': 1,\n",
       "         'suspending the computer': 1,\n",
       "         'computer and reactivating': 1,\n",
       "         'Windows': 1,\n",
       "         'laptop': 2,\n",
       "         'suspending': 1,\n",
       "         'computer': 7,\n",
       "         'reactivating': 1,\n",
       "         'worked': 5,\n",
       "         'Fair amount': 1,\n",
       "         'Fair': 1,\n",
       "         'footwear': 1,\n",
       "         'leather jacket': 1,\n",
       "         'amount': 3,\n",
       "         'clothes': 3,\n",
       "         'leather': 4,\n",
       "         'jacket': 2,\n",
       "         'dye clothes': 1,\n",
       "         'insufficient': 2,\n",
       "         'intend': 1,\n",
       "         'dye': 1,\n",
       "         'intend to dye': 1,\n",
       "         'photographic': 1,\n",
       "         'comment': 4,\n",
       "         'point': 4,\n",
       "         'ornament': 1,\n",
       "         'solved the water': 1,\n",
       "         'water leaks': 1,\n",
       "         'PVC': 1,\n",
       "         'sticks': 6,\n",
       "         'pool': 2,\n",
       "         'solved': 2,\n",
       "         'water': 16,\n",
       "         'leaks': 1,\n",
       "         'correct packaging': 1,\n",
       "         'teaching the child': 1,\n",
       "         'good finish': 5,\n",
       "         'learn to maintain': 1,\n",
       "         'maintain his balance': 1,\n",
       "         'Product of good': 2,\n",
       "         'quality and good': 1,\n",
       "         'Product': 2,\n",
       "         'fast': 13,\n",
       "         'child': 5,\n",
       "         'meet': 4,\n",
       "         'teaching': 1,\n",
       "         'compact and discreet': 1,\n",
       "         'discreet': 2,\n",
       "         'short time': 5,\n",
       "         'humidifier': 1,\n",
       "         'compact': 2,\n",
       "         'effective and increases': 1,\n",
       "         'increases the relative': 1,\n",
       "         'relative humidity': 1,\n",
       "         'cumbersome to clean': 1,\n",
       "         'noisy and cumbersome': 1,\n",
       "         'disassemble the container': 1,\n",
       "         'effective': 1,\n",
       "         'increases': 1,\n",
       "         'relative': 1,\n",
       "         'humidity': 1,\n",
       "         'room': 5,\n",
       "         'good for shaving': 1,\n",
       "         'originals': 1,\n",
       "         'shaving': 1,\n",
       "         'Bose model': 1,\n",
       "         'product is incompatible': 1,\n",
       "         'Bose': 1,\n",
       "         'SOLD': 1,\n",
       "         'SIDE': 1,\n",
       "         'purchased': 1,\n",
       "         'incompatible': 1,\n",
       "         'model': 5,\n",
       "         'loosens': 2,\n",
       "         'fear of losing': 1,\n",
       "         'losing the bracelet': 1,\n",
       "         'stop': 4,\n",
       "         'fear': 2,\n",
       "         'losing': 3,\n",
       "         'bracelet': 3,\n",
       "         'screws seem smaller': 1,\n",
       "         'plastic part': 2,\n",
       "         'clear': 4,\n",
       "         'part': 13,\n",
       "         'incredible ease': 1,\n",
       "         'expensive': 19,\n",
       "         'screws': 5,\n",
       "         'smaller': 7,\n",
       "         'adjusted': 2,\n",
       "         'damaged and bulges': 1,\n",
       "         'bulges with incredible': 1,\n",
       "         'mounting the support': 1,\n",
       "         'paint was chipped': 1,\n",
       "         'change position': 1,\n",
       "         'practical and easy': 1,\n",
       "         'easy to change': 1,\n",
       "         'position': 5,\n",
       "         'cooling function': 1,\n",
       "         'ice cubes': 1,\n",
       "         'cooling': 1,\n",
       "         'cubes': 1,\n",
       "         'drink': 1,\n",
       "         'add': 3,\n",
       "         'ice': 2,\n",
       "         'Perfect price': 1,\n",
       "         'find it cheaper': 1,\n",
       "         'price and shipping': 1,\n",
       "         'cheaper': 7,\n",
       "         'searched': 1,\n",
       "         'sites': 1,\n",
       "         'delighted': 6,\n",
       "         'nephews': 1,\n",
       "         'character in pubg': 1,\n",
       "         'move the character': 1,\n",
       "         'pubg': 1,\n",
       "         'move': 2,\n",
       "         'character': 1,\n",
       "         'Harness release problems': 1,\n",
       "         'Harness release': 1,\n",
       "         'release problems': 1,\n",
       "         'Harness': 1,\n",
       "         'release': 2,\n",
       "         'son': 6,\n",
       "         'gift': 21,\n",
       "         'entertaining trilogy': 1,\n",
       "         'Brandon Sanderson': 1,\n",
       "         'trilogy': 1,\n",
       "         'entertaining': 3,\n",
       "         ...})"
      ]
     },
     "execution_count": 81,
     "metadata": {},
     "output_type": "execute_result"
    }
   ],
   "source": [
    "all_keywords = []\n",
    "for i in keywords:\n",
    "  all_keywords.extend(i)\n",
    "cnt= Counter(all_keywords)\n",
    "cnt"
   ]
  },
  {
   "cell_type": "code",
   "execution_count": null,
   "metadata": {
    "id": "oBTH5sDqHPf3"
   },
   "outputs": [],
   "source": [
    "root cause analysis \n",
    "1. ontology creation\n",
    "{'root cause':['customer service is not good','bad customer service'],'poor communication':}\n",
    "\n",
    "\"I bought this product last week, but I am not happy with customer service \" : \"Poor customer service \"\n",
    "\n",
    "\n",
    "1. customer is happy or not \n",
    "2. root cause analysis : if customer is not happy what is reason behind it \n",
    "\n",
    "\n",
    "\n",
    "keyphrases ---> root causes : manually find out which are similar root causes ----> ontology \n",
    "\n"
   ]
  },
  {
   "cell_type": "code",
   "execution_count": null,
   "metadata": {
    "id": "gPItE4D3MVOo"
   },
   "outputs": [],
   "source": [
    "# clustering  \n",
    "\n",
    "if we do not have labelled data for sentiment analysis \n",
    "\n",
    "1. KMeans  1 KMeans with count vectorizer \n",
    "           2. KMeans with TFIDF \n",
    "          3. Kmeans with word2vec \n",
    "\n",
    "2. Hierarchical : 1. Count \n",
    "                  2.  TFIDF \n",
    "                  3. word2vec \n",
    "\n",
    "\n",
    "evaluate : visualize sihloutte score "
   ]
  },
  {
   "cell_type": "code",
   "execution_count": 14,
   "metadata": {
    "executionInfo": {
     "elapsed": 414,
     "status": "ok",
     "timestamp": 1659185023821,
     "user": {
      "displayName": "Prajakta Joshi",
      "userId": "09236937732649609880"
     },
     "user_tz": -330
    },
    "id": "dJzqoKeION61"
   },
   "outputs": [],
   "source": [
    "# Preprocessing \n",
    "def remove_newline(data):\n",
    "    clean_text = data.replace(\"\\\\n\",' ').replace(\"\\n\",' ').replace('\\t',' ').replace('\\\\',' ')\n",
    "    return clean_text\n",
    "def remove_whitespace(data):\n",
    "    pattern = re.compile(r'\\s+')\n",
    "    without_whitespace =  re.sub(pattern,' ',data)\n",
    "    return without_whitespace\n",
    "def remove_accented_character(data):\n",
    "    text  = unidecode.unidecode(data)\n",
    "    return text \n",
    "def contraction_mapping(data):\n",
    "    tokens = data.split()\n",
    "    expanded_words = []\n",
    "    for word in tokens :\n",
    "        expanded_words.append(contractions.fix(word))\n",
    "    expanded_text = \" \".join(expanded_words)\n",
    "    return expanded_text\n",
    "stop = stopwords.words('english')\n",
    "stop.remove('no')\n",
    "stop.remove('nor')\n",
    "stop.remove(\n",
    " 'not')\n",
    "def clean_data(data):\n",
    "    tokens = RegexpTokenizer(r'\\w+').tokenize(data)\n",
    "    text_without_stop = [word for word in tokens if word not in stop]\n",
    "    final_text = []\n",
    "    for word in text_without_stop :\n",
    "        if (len(word)<2) or ( word in punctuation) :\n",
    "            pass \n",
    "        else :\n",
    "            final_text.append(word)\n",
    "    text = \" \".join(final_text)\n",
    "    return text\n",
    "def lemmatization(data):\n",
    "    tokens = word_tokenize(data)\n",
    "    tokens = [word.lower() for word in tokens if word.isalpha()]\n",
    "    lemma = WordNetLemmatizer()\n",
    "    final_text =[]\n",
    "    for i in tokens:\n",
    "        lemmatized_word = lemma.lemmatize(i)\n",
    "        final_text.append(lemmatized_word)\n",
    "    return \" \".join(final_text)\n",
    "       "
   ]
  },
  {
   "cell_type": "code",
   "execution_count": 20,
   "metadata": {
    "colab": {
     "base_uri": "https://localhost:8080/"
    },
    "executionInfo": {
     "elapsed": 406,
     "status": "ok",
     "timestamp": 1659185077921,
     "user": {
      "displayName": "Prajakta Joshi",
      "userId": "09236937732649609880"
     },
     "user_tz": -330
    },
    "id": "V5kuGNmVIgKr",
    "outputId": "5cfad114-a6e6-4df8-8bcf-7d2056f489d9"
   },
   "outputs": [
    {
     "name": "stderr",
     "output_type": "stream",
     "text": [
      "[nltk_data] Downloading package omw-1.4 to /root/nltk_data...\n"
     ]
    },
    {
     "data": {
      "text/plain": [
       "True"
      ]
     },
     "execution_count": 20,
     "metadata": {},
     "output_type": "execute_result"
    }
   ],
   "source": [
    "import nltk\n",
    "nltk.download('omw-1.4')"
   ]
  },
  {
   "cell_type": "code",
   "execution_count": 21,
   "metadata": {
    "executionInfo": {
     "elapsed": 2634,
     "status": "ok",
     "timestamp": 1659185082279,
     "user": {
      "displayName": "Prajakta Joshi",
      "userId": "09236937732649609880"
     },
     "user_tz": -330
    },
    "id": "xRer8OY3QG8P"
   },
   "outputs": [],
   "source": [
    "clean_text = final_data.Translated_review.apply(remove_newline)\n",
    "clean_text = clean_text.apply(remove_whitespace)\n",
    "clean_text = clean_text.apply(remove_accented_character)\n",
    "clean_text = clean_text.apply(contraction_mapping)\n",
    "clean_text = clean_text.apply(clean_data)\n",
    "clean_text = clean_text.apply(lemmatization)\n"
   ]
  },
  {
   "cell_type": "code",
   "execution_count": 98,
   "metadata": {
    "colab": {
     "base_uri": "https://localhost:8080/"
    },
    "executionInfo": {
     "elapsed": 391,
     "status": "ok",
     "timestamp": 1659170483185,
     "user": {
      "displayName": "Prajakta Joshi",
      "userId": "09236937732649609880"
     },
     "user_tz": -330
    },
    "id": "6dC4_dLXRF7g",
    "outputId": "8a7f8958-b621-4818-f7b8-25c57972d2f6"
   },
   "outputs": [
    {
     "data": {
      "text/plain": [
       "0                                some port not work well\n",
       "1               hello say package delivered not received\n",
       "2                   entertaining book nothing write home\n",
       "3            the cover broke day placing mobile disaster\n",
       "4      it last le time than the original battery had ...\n",
       "                             ...                        \n",
       "995    not like screen when taking photo can not see ...\n",
       "996        so many unicorn thing together made crazy lol\n",
       "997    nothing say the product seems correct she arri...\n",
       "998    one turned immediately connected wanted return...\n",
       "999    it broke month little use internal element low...\n",
       "Name: Translated_review, Length: 1000, dtype: object"
      ]
     },
     "execution_count": 98,
     "metadata": {},
     "output_type": "execute_result"
    }
   ],
   "source": [
    "clean_text"
   ]
  },
  {
   "cell_type": "code",
   "execution_count": 22,
   "metadata": {
    "executionInfo": {
     "elapsed": 746,
     "status": "ok",
     "timestamp": 1659185089955,
     "user": {
      "displayName": "Prajakta Joshi",
      "userId": "09236937732649609880"
     },
     "user_tz": -330
    },
    "id": "kjq_Zb0EQIhn"
   },
   "outputs": [],
   "source": [
    "# Text Vectorization \n",
    "\n",
    "# Count vectorizer \n",
    "\n",
    "count_vec = CountVectorizer()\n",
    "bow = count_vec.fit_transform(clean_text).A\n",
    "\n",
    "# TFIDF \n",
    "tfidf = TfidfVectorizer()\n",
    "tfidf_val =tfidf.fit_transform(clean_text).A\n",
    "\n"
   ]
  },
  {
   "cell_type": "code",
   "execution_count": 23,
   "metadata": {
    "executionInfo": {
     "elapsed": 3,
     "status": "ok",
     "timestamp": 1659185089956,
     "user": {
      "displayName": "Prajakta Joshi",
      "userId": "09236937732649609880"
     },
     "user_tz": -330
    },
    "id": "kodFapk5Q9UV"
   },
   "outputs": [],
   "source": [
    "# w1,w2,w3 =avg\n",
    "\n",
    "# final_text =  [[w1,w2],[w1,w2,w3]]\n",
    "\n",
    "\n",
    "clean_text_list = clean_text.tolist()\n",
    "splitted_sent = [sent.split() for sent in clean_text_list]\n"
   ]
  },
  {
   "cell_type": "code",
   "execution_count": 24,
   "metadata": {
    "colab": {
     "base_uri": "https://localhost:8080/"
    },
    "executionInfo": {
     "elapsed": 2,
     "status": "ok",
     "timestamp": 1659185091291,
     "user": {
      "displayName": "Prajakta Joshi",
      "userId": "09236937732649609880"
     },
     "user_tz": -330
    },
    "id": "meX3-zltaBWf",
    "outputId": "b06a8b57-f3a3-4d6e-b373-958bf82b030e"
   },
   "outputs": [
    {
     "data": {
      "text/plain": [
       "['not', 'like', 'look', 'bad', 'worth', 'dissatisfied']"
      ]
     },
     "execution_count": 24,
     "metadata": {},
     "output_type": "execute_result"
    }
   ],
   "source": [
    "splitted_sent[0]"
   ]
  },
  {
   "cell_type": "code",
   "execution_count": 25,
   "metadata": {
    "executionInfo": {
     "elapsed": 663,
     "status": "ok",
     "timestamp": 1659185092639,
     "user": {
      "displayName": "Prajakta Joshi",
      "userId": "09236937732649609880"
     },
     "user_tz": -330
    },
    "id": "nbTgS7KdWCTJ"
   },
   "outputs": [],
   "source": [
    "# build word2vec\n",
    "word2vec_model = Word2Vec(splitted_sent,min_count=1,window=3)\n",
    "word2vec_model.save('word2vec.model')"
   ]
  },
  {
   "cell_type": "code",
   "execution_count": 26,
   "metadata": {
    "executionInfo": {
     "elapsed": 4,
     "status": "ok",
     "timestamp": 1659185093101,
     "user": {
      "displayName": "Prajakta Joshi",
      "userId": "09236937732649609880"
     },
     "user_tz": -330
    },
    "id": "yQl8KUDDWzQo"
   },
   "outputs": [],
   "source": [
    "import numpy as np\n",
    "def vectorize(splitted_sent,model):\n",
    "  feature = [] # append vector of sentence \n",
    "  for tokens in splitted_sent : # iterarate splitted_sent\n",
    "    zero_vector = np.zeros(model.vector_size) # if vector not available return zero vector\n",
    "    vector = [] # saving vector of each word\n",
    "    for token in tokens : # iterate over words in each sentence example ['some', 'port', 'not', 'work', 'well']\n",
    "      if token in model.wv: # checking if word available or not in vocabulary\n",
    "        try : \n",
    "          vector.append(model.wv[token])# appending vector  \n",
    "        except KeyError :\n",
    "          continue\n",
    "    if vector: # get avarage of all vectors( w1 : vec1 ,w2 : vec2 ,w3 : vec3)\n",
    "      vector = np.asarray(vector)\n",
    "      avg_vec = vector.mean(axis=0)\n",
    "      feature.append(avg_vec)\n",
    "    else:\n",
    "      feature.append(zero_vector)\n",
    "  return feature\n",
    "\n",
    "\n",
    "vectorized_documents = vectorize(splitted_sent,word2vec_model)\n"
   ]
  },
  {
   "cell_type": "code",
   "execution_count": 27,
   "metadata": {
    "colab": {
     "base_uri": "https://localhost:8080/"
    },
    "executionInfo": {
     "elapsed": 3,
     "status": "ok",
     "timestamp": 1659185093101,
     "user": {
      "displayName": "Prajakta Joshi",
      "userId": "09236937732649609880"
     },
     "user_tz": -330
    },
    "id": "UBlpbKfibGzv",
    "outputId": "427c04ce-d187-49c8-9bf8-9c430cf0a3bb"
   },
   "outputs": [
    {
     "data": {
      "text/plain": [
       "1000"
      ]
     },
     "execution_count": 27,
     "metadata": {},
     "output_type": "execute_result"
    }
   ],
   "source": [
    "len(splitted_sent)"
   ]
  },
  {
   "cell_type": "code",
   "execution_count": 28,
   "metadata": {
    "executionInfo": {
     "elapsed": 2,
     "status": "ok",
     "timestamp": 1659185094102,
     "user": {
      "displayName": "Prajakta Joshi",
      "userId": "09236937732649609880"
     },
     "user_tz": -330
    },
    "id": "UtAF5sqCa4Fd"
   },
   "outputs": [],
   "source": [
    "X_emb = np.array(vectorized_documents) # converting all vectors into a single array"
   ]
  },
  {
   "cell_type": "code",
   "execution_count": 30,
   "metadata": {
    "executionInfo": {
     "elapsed": 449,
     "status": "ok",
     "timestamp": 1659185157391,
     "user": {
      "displayName": "Prajakta Joshi",
      "userId": "09236937732649609880"
     },
     "user_tz": -330
    },
    "id": "RZOCS5TSbA1j"
   },
   "outputs": [],
   "source": [
    "# KMeans Model\n",
    "def kmeans(clusters,data):\n",
    "  kmeans_model = KMeans(n_clusters=clusters)\n",
    "  y_pred = kmeans_model.fit_predict(data)\n",
    "  return kmeans_model,y_pred"
   ]
  },
  {
   "cell_type": "code",
   "execution_count": 35,
   "metadata": {
    "executionInfo": {
     "elapsed": 1764,
     "status": "ok",
     "timestamp": 1659185531356,
     "user": {
      "displayName": "Prajakta Joshi",
      "userId": "09236937732649609880"
     },
     "user_tz": -330
    },
    "id": "Td6toKKQI2g7"
   },
   "outputs": [],
   "source": [
    "# KMeans - Count vect\n",
    "bow_kmeans_model,bow_kmeans_prediction = kmeans(3,bow)"
   ]
  },
  {
   "cell_type": "code",
   "execution_count": 32,
   "metadata": {
    "executionInfo": {
     "elapsed": 6951,
     "status": "ok",
     "timestamp": 1659185289086,
     "user": {
      "displayName": "Prajakta Joshi",
      "userId": "09236937732649609880"
     },
     "user_tz": -330
    },
    "id": "zAlSNkk8JTFt"
   },
   "outputs": [],
   "source": [
    "#KMeans - TFIDF\n",
    "tfidf_kmeans_model,tfidf_kmeans_prediction = kmeans(3,tfidf_val)"
   ]
  },
  {
   "cell_type": "code",
   "execution_count": 33,
   "metadata": {
    "executionInfo": {
     "elapsed": 912,
     "status": "ok",
     "timestamp": 1659185356713,
     "user": {
      "displayName": "Prajakta Joshi",
      "userId": "09236937732649609880"
     },
     "user_tz": -330
    },
    "id": "6SXNoaI2Jjd-"
   },
   "outputs": [],
   "source": [
    "#KMeans - Word2vec\n",
    "word2vec_kmeans_model,word2vec_kmeans_prediction = kmeans(3,X_emb)"
   ]
  },
  {
   "cell_type": "code",
   "execution_count": 36,
   "metadata": {
    "colab": {
     "base_uri": "https://localhost:8080/"
    },
    "executionInfo": {
     "elapsed": 419,
     "status": "ok",
     "timestamp": 1659185537684,
     "user": {
      "displayName": "Prajakta Joshi",
      "userId": "09236937732649609880"
     },
     "user_tz": -330
    },
    "id": "B9Q8HkXeJ1ft",
    "outputId": "c2581a80-fe72-4a8a-f452-378269f440c1"
   },
   "outputs": [
    {
     "name": "stdout",
     "output_type": "stream",
     "text": [
      "Silhoutte score kmeans-bow : 0.050134710173965674\n",
      "Silhoutte score kmeans-tfidf : 0.006398554879212969\n",
      "Silhoutte score kmeans-word2vec : 0.430972158908844\n"
     ]
    }
   ],
   "source": [
    "#Evaluation KMeans \n",
    "print(f\"Silhoutte score kmeans-bow : {silhouette_score(bow,bow_kmeans_prediction)}\")\n",
    "print(f\"Silhoutte score kmeans-tfidf : {silhouette_score(tfidf_val,tfidf_kmeans_prediction)}\")\n",
    "print(f\"Silhoutte score kmeans-word2vec : {silhouette_score(X_emb,word2vec_kmeans_prediction)}\")"
   ]
  },
  {
   "cell_type": "code",
   "execution_count": 38,
   "metadata": {
    "executionInfo": {
     "elapsed": 469,
     "status": "ok",
     "timestamp": 1659185900441,
     "user": {
      "displayName": "Prajakta Joshi",
      "userId": "09236937732649609880"
     },
     "user_tz": -330
    },
    "id": "1pKGrvMtKboP"
   },
   "outputs": [],
   "source": [
    "# visualize silhoutte score\n",
    "def visualize_silhoutte_score(data,model,title):\n",
    "  visualizer = SilhouetteVisualizer(model,colors='yellowbrick')\n",
    "  visualizer.fit(data)\n",
    "  plt.title(f\"Silhoutte score for {title}\")"
   ]
  },
  {
   "cell_type": "code",
   "execution_count": 39,
   "metadata": {
    "colab": {
     "base_uri": "https://localhost:8080/",
     "height": 362
    },
    "executionInfo": {
     "elapsed": 1598,
     "status": "ok",
     "timestamp": 1659185966408,
     "user": {
      "displayName": "Prajakta Joshi",
      "userId": "09236937732649609880"
     },
     "user_tz": -330
    },
    "id": "fwN3NlY5L6Vk",
    "outputId": "452df1ae-6b87-407d-9a90-510398cf4105"
   },
   "outputs": [
    {
     "data": {
      "image/png": "[encoded data removed]",
      "text/plain": [
       "<Figure size 576x396 with 1 Axes>"
      ]
     },
     "metadata": {},
     "output_type": "display_data"
    }
   ],
   "source": [
    "visualize_silhoutte_score(bow,bow_kmeans_model,\"Count Vectorizer\")"
   ]
  },
  {
   "cell_type": "code",
   "execution_count": 40,
   "metadata": {
    "colab": {
     "base_uri": "https://localhost:8080/",
     "height": 362
    },
    "executionInfo": {
     "elapsed": 1428,
     "status": "ok",
     "timestamp": 1659186130660,
     "user": {
      "displayName": "Prajakta Joshi",
      "userId": "09236937732649609880"
     },
     "user_tz": -330
    },
    "id": "iffpWC9HMKK1",
    "outputId": "6e29bf77-322f-41f7-c06f-502011978641"
   },
   "outputs": [
    {
     "data": {
      "image/png": "[encoded data removed]",
      "text/plain": [
       "<Figure size 576x396 with 1 Axes>"
      ]
     },
     "metadata": {},
     "output_type": "display_data"
    }
   ],
   "source": [
    "visualize_silhoutte_score(tfidf_val,tfidf_kmeans_model,\"TFIDF Vectorizer\")"
   ]
  },
  {
   "cell_type": "code",
   "execution_count": 41,
   "metadata": {
    "colab": {
     "base_uri": "https://localhost:8080/",
     "height": 362
    },
    "executionInfo": {
     "elapsed": 628,
     "status": "ok",
     "timestamp": 1659186204016,
     "user": {
      "displayName": "Prajakta Joshi",
      "userId": "09236937732649609880"
     },
     "user_tz": -330
    },
    "id": "yahyFhVOMyUU",
    "outputId": "c2e17882-660a-4506-e2da-c73bacc51b61"
   },
   "outputs": [
    {
     "data": {
      "image/png": "[encoded data removed]",
      "text/plain": [
       "<Figure size 576x396 with 1 Axes>"
      ]
     },
     "metadata": {},
     "output_type": "display_data"
    }
   ],
   "source": [
    "visualize_silhoutte_score(X_emb,word2vec_kmeans_model,\"Word2vec\")"
   ]
  },
  {
   "cell_type": "code",
   "execution_count": null,
   "metadata": {
    "id": "7kQ79pyXNEf2"
   },
   "outputs": [],
   "source": [
    "# Silhoutte score lies between -1 to +1\n",
    "# change number of cluster \n",
    "# change clustering algo"
   ]
  },
  {
   "cell_type": "code",
   "execution_count": null,
   "metadata": {
    "id": "O1GXicTqOJRl"
   },
   "outputs": [],
   "source": [
    "# Agglomerative Model\n",
    "def agglomerative(clusters,data):\n",
    "  agglomerative_model = AgglomerativeClustering(n_clusters=clusters,linkage=\"\")\n",
    "  y_pred = agglomerative_model.fit_predict(data)\n",
    "  return agglomerative_model,y_pred"
   ]
  },
  {
   "cell_type": "code",
   "execution_count": null,
   "metadata": {
    "id": "KBl8GeXtQWRk"
   },
   "outputs": [],
   "source": [
    "# SOM Clustering"
   ]
  },
  {
   "cell_type": "code",
   "execution_count": null,
   "metadata": {
    "id": "QuOu-i7xQo5A"
   },
   "outputs": [],
   "source": [
    "# logistic regression\n",
    "# dt classifier\n",
    "#naive bayes \n",
    "# svm \n",
    "#  gb \n",
    "# xgb"
   ]
  }
 ],
 "metadata": {
  "colab": {
   "authorship_tag": "ABX9TyNd2aQZIFF7QNg9MQAdkJhS",
   "mount_file_id": "17GkC9PWauypIWgqumvY6Z06Kxwo5liRx",
   "name": "Untitled13.ipynb",
   "provenance": []
  },
  "kernelspec": {
   "display_name": "Python 3 (ipykernel)",
   "language": "python",
   "name": "python3"
  },
  "language_info": {
   "codemirror_mode": {
    "name": "ipython",
    "version": 3
   },
   "file_extension": ".py",
   "mimetype": "text/x-python",
   "name": "python",
   "nbconvert_exporter": "python",
   "pygments_lexer": "ipython3",
   "version": "3.9.12"
  }
 },
 "nbformat": 4,
 "nbformat_minor": 1
}
